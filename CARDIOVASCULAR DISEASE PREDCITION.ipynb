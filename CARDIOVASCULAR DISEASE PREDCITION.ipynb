{
 "cells": [
  {
   "cell_type": "markdown",
   "metadata": {
    "_uuid": "bbd660b62cc616efa33651beedc49b86045b784d",
    "id": "B83zuhYjO-KT"
   },
   "source": [
    "## <font size=5> <strong>Heart Disease Prediction\n",
    " "
   ]
  },
  {
   "cell_type": "code",
   "execution_count": 576,
   "metadata": {
    "_uuid": "f571f7e57c828d45fe55f6136fe8c2e796f74d4e",
    "colab": {
     "base_uri": "https://localhost:8080/"
    },
    "id": "rnZnX1s9O-Kb",
    "outputId": "961a117f-5ba1-426c-c9af-aa4b13177296"
   },
   "outputs": [],
   "source": [
    "import numpy as np\n",
    "import pandas as pd\n",
    "import matplotlib.pyplot as plt\n",
    "import seaborn as sns\n",
    "import warnings\n",
    "warnings.filterwarnings(\"ignore\")\n",
    "\n",
    "%matplotlib inline"
   ]
  },
  {
   "cell_type": "code",
   "execution_count": 577,
   "metadata": {
    "_uuid": "2a1a1dae64ae3c934849b2b918bc7d68cd59e3f6",
    "id": "CiG3b1DjO-Kd"
   },
   "outputs": [],
   "source": [
    "dataset = pd.read_csv(\"D:\\\\SEM-6\\\\heart.csv\")"
   ]
  },
  {
   "cell_type": "code",
   "execution_count": 578,
   "metadata": {},
   "outputs": [
    {
     "data": {
      "text/plain": [
       "age         False\n",
       "sex         False\n",
       "cp          False\n",
       "trestbps    False\n",
       "chol        False\n",
       "fbs         False\n",
       "restecg     False\n",
       "thalach     False\n",
       "exang       False\n",
       "oldpeak     False\n",
       "slope       False\n",
       "ca          False\n",
       "thal        False\n",
       "target      False\n",
       "dtype: bool"
      ]
     },
     "execution_count": 578,
     "metadata": {},
     "output_type": "execute_result"
    }
   ],
   "source": [
    "dataset.isnull().any()"
   ]
  },
  {
   "cell_type": "code",
   "execution_count": 579,
   "metadata": {
    "_uuid": "86353d54a331dbf55a63874402cf13e2a72c3750",
    "colab": {
     "base_uri": "https://localhost:8080/"
    },
    "id": "eFSag159O-Kd",
    "outputId": "8a983d30-ae38-44db-9039-dad2abddeb21"
   },
   "outputs": [
    {
     "data": {
      "text/plain": [
       "pandas.core.frame.DataFrame"
      ]
     },
     "execution_count": 579,
     "metadata": {},
     "output_type": "execute_result"
    }
   ],
   "source": [
    "type(dataset)"
   ]
  },
  {
   "cell_type": "code",
   "execution_count": 580,
   "metadata": {
    "_uuid": "0a2396061d262bee451e61dd51be84d0bd1ac9d0",
    "colab": {
     "base_uri": "https://localhost:8080/"
    },
    "id": "eTV1cQeVO-Ke",
    "outputId": "996835c2-b848-4b92-9a80-51cc243be70c"
   },
   "outputs": [
    {
     "data": {
      "text/plain": [
       "(303, 14)"
      ]
     },
     "execution_count": 580,
     "metadata": {},
     "output_type": "execute_result"
    }
   ],
   "source": [
    "dataset.shape"
   ]
  },
  {
   "cell_type": "code",
   "execution_count": 581,
   "metadata": {
    "_uuid": "5132eb43114bf99d5f857f459d0c9d2faffc9644",
    "colab": {
     "base_uri": "https://localhost:8080/",
     "height": 204
    },
    "id": "pmGpqSUHO-Kf",
    "outputId": "e88d96ed-261b-4704-938a-6723979cccd2"
   },
   "outputs": [
    {
     "data": {
      "text/html": [
       "<div>\n",
       "<style scoped>\n",
       "    .dataframe tbody tr th:only-of-type {\n",
       "        vertical-align: middle;\n",
       "    }\n",
       "\n",
       "    .dataframe tbody tr th {\n",
       "        vertical-align: top;\n",
       "    }\n",
       "\n",
       "    .dataframe thead th {\n",
       "        text-align: right;\n",
       "    }\n",
       "</style>\n",
       "<table border=\"1\" class=\"dataframe\">\n",
       "  <thead>\n",
       "    <tr style=\"text-align: right;\">\n",
       "      <th></th>\n",
       "      <th>age</th>\n",
       "      <th>sex</th>\n",
       "      <th>cp</th>\n",
       "      <th>trestbps</th>\n",
       "      <th>chol</th>\n",
       "      <th>fbs</th>\n",
       "      <th>restecg</th>\n",
       "      <th>thalach</th>\n",
       "      <th>exang</th>\n",
       "      <th>oldpeak</th>\n",
       "      <th>slope</th>\n",
       "      <th>ca</th>\n",
       "      <th>thal</th>\n",
       "      <th>target</th>\n",
       "    </tr>\n",
       "  </thead>\n",
       "  <tbody>\n",
       "    <tr>\n",
       "      <th>177</th>\n",
       "      <td>64</td>\n",
       "      <td>1</td>\n",
       "      <td>2</td>\n",
       "      <td>140</td>\n",
       "      <td>335</td>\n",
       "      <td>0</td>\n",
       "      <td>1</td>\n",
       "      <td>158</td>\n",
       "      <td>0</td>\n",
       "      <td>0.0</td>\n",
       "      <td>2</td>\n",
       "      <td>0</td>\n",
       "      <td>2</td>\n",
       "      <td>0</td>\n",
       "    </tr>\n",
       "    <tr>\n",
       "      <th>172</th>\n",
       "      <td>58</td>\n",
       "      <td>1</td>\n",
       "      <td>1</td>\n",
       "      <td>120</td>\n",
       "      <td>284</td>\n",
       "      <td>0</td>\n",
       "      <td>0</td>\n",
       "      <td>160</td>\n",
       "      <td>0</td>\n",
       "      <td>1.8</td>\n",
       "      <td>1</td>\n",
       "      <td>0</td>\n",
       "      <td>2</td>\n",
       "      <td>0</td>\n",
       "    </tr>\n",
       "    <tr>\n",
       "      <th>119</th>\n",
       "      <td>46</td>\n",
       "      <td>0</td>\n",
       "      <td>0</td>\n",
       "      <td>138</td>\n",
       "      <td>243</td>\n",
       "      <td>0</td>\n",
       "      <td>0</td>\n",
       "      <td>152</td>\n",
       "      <td>1</td>\n",
       "      <td>0.0</td>\n",
       "      <td>1</td>\n",
       "      <td>0</td>\n",
       "      <td>2</td>\n",
       "      <td>1</td>\n",
       "    </tr>\n",
       "    <tr>\n",
       "      <th>299</th>\n",
       "      <td>45</td>\n",
       "      <td>1</td>\n",
       "      <td>3</td>\n",
       "      <td>110</td>\n",
       "      <td>264</td>\n",
       "      <td>0</td>\n",
       "      <td>1</td>\n",
       "      <td>132</td>\n",
       "      <td>0</td>\n",
       "      <td>1.2</td>\n",
       "      <td>1</td>\n",
       "      <td>0</td>\n",
       "      <td>3</td>\n",
       "      <td>0</td>\n",
       "    </tr>\n",
       "    <tr>\n",
       "      <th>197</th>\n",
       "      <td>67</td>\n",
       "      <td>1</td>\n",
       "      <td>0</td>\n",
       "      <td>125</td>\n",
       "      <td>254</td>\n",
       "      <td>1</td>\n",
       "      <td>1</td>\n",
       "      <td>163</td>\n",
       "      <td>0</td>\n",
       "      <td>0.2</td>\n",
       "      <td>1</td>\n",
       "      <td>2</td>\n",
       "      <td>3</td>\n",
       "      <td>0</td>\n",
       "    </tr>\n",
       "  </tbody>\n",
       "</table>\n",
       "</div>"
      ],
      "text/plain": [
       "     age  sex  cp  trestbps  chol  fbs  restecg  thalach  exang  oldpeak  \\\n",
       "177   64    1   2       140   335    0        1      158      0      0.0   \n",
       "172   58    1   1       120   284    0        0      160      0      1.8   \n",
       "119   46    0   0       138   243    0        0      152      1      0.0   \n",
       "299   45    1   3       110   264    0        1      132      0      1.2   \n",
       "197   67    1   0       125   254    1        1      163      0      0.2   \n",
       "\n",
       "     slope  ca  thal  target  \n",
       "177      2   0     2       0  \n",
       "172      1   0     2       0  \n",
       "119      1   0     2       1  \n",
       "299      1   0     3       0  \n",
       "197      1   2     3       0  "
      ]
     },
     "execution_count": 581,
     "metadata": {},
     "output_type": "execute_result"
    }
   ],
   "source": [
    "dataset.sample(5)"
   ]
  },
  {
   "cell_type": "code",
   "execution_count": 582,
   "metadata": {
    "_uuid": "c31619815cb0dae5586985671fdc21110b39a821",
    "colab": {
     "base_uri": "https://localhost:8080/",
     "height": 297
    },
    "id": "EbGUtTkNO-Kg",
    "outputId": "72c9c457-62ea-40ea-86e9-fd5e4d7677a6"
   },
   "outputs": [
    {
     "data": {
      "text/html": [
       "<div>\n",
       "<style scoped>\n",
       "    .dataframe tbody tr th:only-of-type {\n",
       "        vertical-align: middle;\n",
       "    }\n",
       "\n",
       "    .dataframe tbody tr th {\n",
       "        vertical-align: top;\n",
       "    }\n",
       "\n",
       "    .dataframe thead th {\n",
       "        text-align: right;\n",
       "    }\n",
       "</style>\n",
       "<table border=\"1\" class=\"dataframe\">\n",
       "  <thead>\n",
       "    <tr style=\"text-align: right;\">\n",
       "      <th></th>\n",
       "      <th>age</th>\n",
       "      <th>sex</th>\n",
       "      <th>cp</th>\n",
       "      <th>trestbps</th>\n",
       "      <th>chol</th>\n",
       "      <th>fbs</th>\n",
       "      <th>restecg</th>\n",
       "      <th>thalach</th>\n",
       "      <th>exang</th>\n",
       "      <th>oldpeak</th>\n",
       "      <th>slope</th>\n",
       "      <th>ca</th>\n",
       "      <th>thal</th>\n",
       "      <th>target</th>\n",
       "    </tr>\n",
       "  </thead>\n",
       "  <tbody>\n",
       "    <tr>\n",
       "      <th>count</th>\n",
       "      <td>303.000000</td>\n",
       "      <td>303.000000</td>\n",
       "      <td>303.000000</td>\n",
       "      <td>303.000000</td>\n",
       "      <td>303.000000</td>\n",
       "      <td>303.000000</td>\n",
       "      <td>303.000000</td>\n",
       "      <td>303.000000</td>\n",
       "      <td>303.000000</td>\n",
       "      <td>303.000000</td>\n",
       "      <td>303.000000</td>\n",
       "      <td>303.000000</td>\n",
       "      <td>303.000000</td>\n",
       "      <td>303.000000</td>\n",
       "    </tr>\n",
       "    <tr>\n",
       "      <th>mean</th>\n",
       "      <td>54.366337</td>\n",
       "      <td>0.683168</td>\n",
       "      <td>0.966997</td>\n",
       "      <td>131.623762</td>\n",
       "      <td>246.264026</td>\n",
       "      <td>0.148515</td>\n",
       "      <td>0.528053</td>\n",
       "      <td>149.646865</td>\n",
       "      <td>0.326733</td>\n",
       "      <td>1.039604</td>\n",
       "      <td>1.399340</td>\n",
       "      <td>0.729373</td>\n",
       "      <td>2.313531</td>\n",
       "      <td>0.544554</td>\n",
       "    </tr>\n",
       "    <tr>\n",
       "      <th>std</th>\n",
       "      <td>9.082101</td>\n",
       "      <td>0.466011</td>\n",
       "      <td>1.032052</td>\n",
       "      <td>17.538143</td>\n",
       "      <td>51.830751</td>\n",
       "      <td>0.356198</td>\n",
       "      <td>0.525860</td>\n",
       "      <td>22.905161</td>\n",
       "      <td>0.469794</td>\n",
       "      <td>1.161075</td>\n",
       "      <td>0.616226</td>\n",
       "      <td>1.022606</td>\n",
       "      <td>0.612277</td>\n",
       "      <td>0.498835</td>\n",
       "    </tr>\n",
       "    <tr>\n",
       "      <th>min</th>\n",
       "      <td>29.000000</td>\n",
       "      <td>0.000000</td>\n",
       "      <td>0.000000</td>\n",
       "      <td>94.000000</td>\n",
       "      <td>126.000000</td>\n",
       "      <td>0.000000</td>\n",
       "      <td>0.000000</td>\n",
       "      <td>71.000000</td>\n",
       "      <td>0.000000</td>\n",
       "      <td>0.000000</td>\n",
       "      <td>0.000000</td>\n",
       "      <td>0.000000</td>\n",
       "      <td>0.000000</td>\n",
       "      <td>0.000000</td>\n",
       "    </tr>\n",
       "    <tr>\n",
       "      <th>25%</th>\n",
       "      <td>47.500000</td>\n",
       "      <td>0.000000</td>\n",
       "      <td>0.000000</td>\n",
       "      <td>120.000000</td>\n",
       "      <td>211.000000</td>\n",
       "      <td>0.000000</td>\n",
       "      <td>0.000000</td>\n",
       "      <td>133.500000</td>\n",
       "      <td>0.000000</td>\n",
       "      <td>0.000000</td>\n",
       "      <td>1.000000</td>\n",
       "      <td>0.000000</td>\n",
       "      <td>2.000000</td>\n",
       "      <td>0.000000</td>\n",
       "    </tr>\n",
       "    <tr>\n",
       "      <th>50%</th>\n",
       "      <td>55.000000</td>\n",
       "      <td>1.000000</td>\n",
       "      <td>1.000000</td>\n",
       "      <td>130.000000</td>\n",
       "      <td>240.000000</td>\n",
       "      <td>0.000000</td>\n",
       "      <td>1.000000</td>\n",
       "      <td>153.000000</td>\n",
       "      <td>0.000000</td>\n",
       "      <td>0.800000</td>\n",
       "      <td>1.000000</td>\n",
       "      <td>0.000000</td>\n",
       "      <td>2.000000</td>\n",
       "      <td>1.000000</td>\n",
       "    </tr>\n",
       "    <tr>\n",
       "      <th>75%</th>\n",
       "      <td>61.000000</td>\n",
       "      <td>1.000000</td>\n",
       "      <td>2.000000</td>\n",
       "      <td>140.000000</td>\n",
       "      <td>274.500000</td>\n",
       "      <td>0.000000</td>\n",
       "      <td>1.000000</td>\n",
       "      <td>166.000000</td>\n",
       "      <td>1.000000</td>\n",
       "      <td>1.600000</td>\n",
       "      <td>2.000000</td>\n",
       "      <td>1.000000</td>\n",
       "      <td>3.000000</td>\n",
       "      <td>1.000000</td>\n",
       "    </tr>\n",
       "    <tr>\n",
       "      <th>max</th>\n",
       "      <td>77.000000</td>\n",
       "      <td>1.000000</td>\n",
       "      <td>3.000000</td>\n",
       "      <td>200.000000</td>\n",
       "      <td>564.000000</td>\n",
       "      <td>1.000000</td>\n",
       "      <td>2.000000</td>\n",
       "      <td>202.000000</td>\n",
       "      <td>1.000000</td>\n",
       "      <td>6.200000</td>\n",
       "      <td>2.000000</td>\n",
       "      <td>4.000000</td>\n",
       "      <td>3.000000</td>\n",
       "      <td>1.000000</td>\n",
       "    </tr>\n",
       "  </tbody>\n",
       "</table>\n",
       "</div>"
      ],
      "text/plain": [
       "              age         sex          cp    trestbps        chol         fbs  \\\n",
       "count  303.000000  303.000000  303.000000  303.000000  303.000000  303.000000   \n",
       "mean    54.366337    0.683168    0.966997  131.623762  246.264026    0.148515   \n",
       "std      9.082101    0.466011    1.032052   17.538143   51.830751    0.356198   \n",
       "min     29.000000    0.000000    0.000000   94.000000  126.000000    0.000000   \n",
       "25%     47.500000    0.000000    0.000000  120.000000  211.000000    0.000000   \n",
       "50%     55.000000    1.000000    1.000000  130.000000  240.000000    0.000000   \n",
       "75%     61.000000    1.000000    2.000000  140.000000  274.500000    0.000000   \n",
       "max     77.000000    1.000000    3.000000  200.000000  564.000000    1.000000   \n",
       "\n",
       "          restecg     thalach       exang     oldpeak       slope          ca  \\\n",
       "count  303.000000  303.000000  303.000000  303.000000  303.000000  303.000000   \n",
       "mean     0.528053  149.646865    0.326733    1.039604    1.399340    0.729373   \n",
       "std      0.525860   22.905161    0.469794    1.161075    0.616226    1.022606   \n",
       "min      0.000000   71.000000    0.000000    0.000000    0.000000    0.000000   \n",
       "25%      0.000000  133.500000    0.000000    0.000000    1.000000    0.000000   \n",
       "50%      1.000000  153.000000    0.000000    0.800000    1.000000    0.000000   \n",
       "75%      1.000000  166.000000    1.000000    1.600000    2.000000    1.000000   \n",
       "max      2.000000  202.000000    1.000000    6.200000    2.000000    4.000000   \n",
       "\n",
       "             thal      target  \n",
       "count  303.000000  303.000000  \n",
       "mean     2.313531    0.544554  \n",
       "std      0.612277    0.498835  \n",
       "min      0.000000    0.000000  \n",
       "25%      2.000000    0.000000  \n",
       "50%      2.000000    1.000000  \n",
       "75%      3.000000    1.000000  \n",
       "max      3.000000    1.000000  "
      ]
     },
     "execution_count": 582,
     "metadata": {},
     "output_type": "execute_result"
    }
   ],
   "source": [
    "dataset.describe()"
   ]
  },
  {
   "cell_type": "code",
   "execution_count": 583,
   "metadata": {},
   "outputs": [
    {
     "name": "stdout",
     "output_type": "stream",
     "text": [
      "<class 'pandas.core.frame.DataFrame'>\n",
      "RangeIndex: 303 entries, 0 to 302\n",
      "Data columns (total 14 columns):\n",
      "age         303 non-null int64\n",
      "sex         303 non-null int64\n",
      "cp          303 non-null int64\n",
      "trestbps    303 non-null int64\n",
      "chol        303 non-null int64\n",
      "fbs         303 non-null int64\n",
      "restecg     303 non-null int64\n",
      "thalach     303 non-null int64\n",
      "exang       303 non-null int64\n",
      "oldpeak     303 non-null float64\n",
      "slope       303 non-null int64\n",
      "ca          303 non-null int64\n",
      "thal        303 non-null int64\n",
      "target      303 non-null int64\n",
      "dtypes: float64(1), int64(13)\n",
      "memory usage: 33.2 KB\n"
     ]
    }
   ],
   "source": [
    "dataset.info()"
   ]
  },
  {
   "cell_type": "code",
   "execution_count": 584,
   "metadata": {
    "_uuid": "5593d1021d54aad598c21f877e57969e6b47f5a8",
    "colab": {
     "base_uri": "https://localhost:8080/"
    },
    "id": "n2B-UUmLO-Kh",
    "outputId": "b35823eb-4f90-42e9-a717-3e578bc9aede"
   },
   "outputs": [
    {
     "name": "stdout",
     "output_type": "stream",
     "text": [
      "age:\t\t\tage\n",
      "sex:\t\t\t1: male, 0: female\n",
      "cp:\t\t\tchest pain type, 1: typical angina, 2: atypical angina, 3: non-anginal pain, 4: asymptomatic\n",
      "trestbps:\t\t\tresting blood pressure\n",
      "chol:\t\t\t serum cholestoral in mg/dl\n",
      "fbs:\t\t\tfasting blood sugar > 120 mg/dl\n",
      "restecg:\t\t\tresting electrocardiographic results (values 0,1,2)\n",
      "thalach:\t\t\t maximum heart rate achieved\n",
      "exang:\t\t\texercise induced angina\n",
      "oldpeak:\t\t\toldpeak = ST depression induced by exercise relative to rest\n",
      "slope:\t\t\tthe slope of the peak exercise ST segment\n",
      "ca:\t\t\tnumber of major vessels (0-3) colored by flourosopy\n",
      "thal:\t\t\tthal: 3 = normal; 6 = fixed defect; 7 = reversable defect\n"
     ]
    }
   ],
   "source": [
    "info = [\"age\",\"1: male, 0: female\",\"chest pain type, 1: typical angina, 2: atypical angina, 3: non-anginal pain, 4: asymptomatic\",\"resting blood pressure\",\" serum cholestoral in mg/dl\",\"fasting blood sugar > 120 mg/dl\",\"resting electrocardiographic results (values 0,1,2)\",\" maximum heart rate achieved\",\"exercise induced angina\",\"oldpeak = ST depression induced by exercise relative to rest\",\"the slope of the peak exercise ST segment\",\"number of major vessels (0-3) colored by flourosopy\",\"thal: 3 = normal; 6 = fixed defect; 7 = reversable defect\"]\n",
    "for i in range(len(info)):\n",
    "    print(dataset.columns[i]+\":\\t\\t\\t\"+info[i])"
   ]
  },
  {
   "cell_type": "code",
   "execution_count": 585,
   "metadata": {
    "_uuid": "b883243919bd382193ed15e2a90f9b522bf6f1f7",
    "colab": {
     "base_uri": "https://localhost:8080/"
    },
    "id": "j7aWwcZsO-Ki",
    "outputId": "a6cd0374-a0cf-43e8-9a73-b6147187972c"
   },
   "outputs": [
    {
     "data": {
      "text/plain": [
       "count    303.000000\n",
       "mean       0.544554\n",
       "std        0.498835\n",
       "min        0.000000\n",
       "25%        0.000000\n",
       "50%        1.000000\n",
       "75%        1.000000\n",
       "max        1.000000\n",
       "Name: target, dtype: float64"
      ]
     },
     "execution_count": 585,
     "metadata": {},
     "output_type": "execute_result"
    }
   ],
   "source": [
    "dataset[\"target\"].describe()"
   ]
  },
  {
   "cell_type": "code",
   "execution_count": 586,
   "metadata": {
    "_uuid": "9c107b83e0148914826282bf1f0ab28505d577ab",
    "colab": {
     "base_uri": "https://localhost:8080/"
    },
    "id": "PelwwavtO-Ki",
    "outputId": "0d10bc83-f0e0-48b2-c0de-a4b13b1b6acb"
   },
   "outputs": [
    {
     "data": {
      "text/plain": [
       "array([1, 0], dtype=int64)"
      ]
     },
     "execution_count": 586,
     "metadata": {},
     "output_type": "execute_result"
    }
   ],
   "source": [
    "dataset[\"target\"].unique()"
   ]
  },
  {
   "cell_type": "code",
   "execution_count": 587,
   "metadata": {
    "_uuid": "29aa23ccb8e6438688e16346b3474f4cc03bae13",
    "colab": {
     "base_uri": "https://localhost:8080/",
     "height": 330
    },
    "id": "Tf7WMQIwO-Kk",
    "outputId": "4b99c562-0103-4737-b017-0dfff07c3194"
   },
   "outputs": [
    {
     "name": "stdout",
     "output_type": "stream",
     "text": [
      "1    165\n",
      "0    138\n",
      "Name: target, dtype: int64\n"
     ]
    },
    {
     "data": {
      "image/png": "[encoded data removed]",
      "text/plain": [
       "<Figure size 432x288 with 1 Axes>"
      ]
     },
     "metadata": {
      "needs_background": "light"
     },
     "output_type": "display_data"
    }
   ],
   "source": [
    "dataset.target.value_counts().plot(kind=\"bar\", color=[\"salmon\", \"lightblue\"])\n",
    "target_temp = dataset.target.value_counts()\n",
    "print(target_temp)"
   ]
  },
  {
   "cell_type": "code",
   "execution_count": 588,
   "metadata": {
    "_uuid": "5240af8bcd12736900050cea077c713d7d9641df",
    "colab": {
     "base_uri": "https://localhost:8080/"
    },
    "id": "TH2UBtDcO-Kl",
    "outputId": "d4f31e04-414e-4f70-c295-919c19f51ebb"
   },
   "outputs": [
    {
     "name": "stdout",
     "output_type": "stream",
     "text": [
      "Percentage of patient's without heart problems: 45.54\n",
      "Percentage of patient's with heart problems: 54.46\n"
     ]
    }
   ],
   "source": [
    "print(\"Percentage of patient's without heart problems: \"+str(round(target_temp[0]*100/303,2)))\n",
    "print(\"Percentage of patient's with heart problems: \"+str(round(target_temp[1]*100/303,2)))\n"
   ]
  },
  {
   "cell_type": "code",
   "execution_count": 589,
   "metadata": {
    "_uuid": "07a3fb2f44b82360d0393377029851655bcdcd31",
    "colab": {
     "base_uri": "https://localhost:8080/"
    },
    "id": "EXcRObaNO-Kl",
    "outputId": "d28849cb-d080-4f4c-b5f5-62a57bcbe3da"
   },
   "outputs": [
    {
     "data": {
      "text/plain": [
       "array([1, 0], dtype=int64)"
      ]
     },
     "execution_count": 589,
     "metadata": {},
     "output_type": "execute_result"
    }
   ],
   "source": [
    "dataset[\"sex\"].unique()"
   ]
  },
  {
   "cell_type": "code",
   "execution_count": 590,
   "metadata": {
    "_uuid": "5d10e6c167251e6d3b1b82a06159da234eeef721",
    "colab": {
     "base_uri": "https://localhost:8080/",
     "height": 296
    },
    "id": "42c8Ef9QO-Km",
    "outputId": "e5c671aa-72bf-4233-fe50-65585e9f9a61"
   },
   "outputs": [
    {
     "data": {
      "text/plain": [
       "<matplotlib.axes._subplots.AxesSubplot at 0x29785ebcf28>"
      ]
     },
     "execution_count": 590,
     "metadata": {},
     "output_type": "execute_result"
    },
    {
     "data": {
      "image/png": "[encoded data removed]",
      "text/plain": [
       "<Figure size 432x288 with 1 Axes>"
      ]
     },
     "metadata": {
      "needs_background": "light"
     },
     "output_type": "display_data"
    }
   ],
   "source": [
    "sns.barplot(dataset[\"sex\"],y)"
   ]
  },
  {
   "cell_type": "code",
   "execution_count": 591,
   "metadata": {
    "_uuid": "7c795d4a86ee05d58e10a412add90065afbd4a70",
    "colab": {
     "base_uri": "https://localhost:8080/"
    },
    "id": "ZfwzLqMXO-Kn",
    "outputId": "fa8e429a-e174-47b4-d866-5f7a73dd7929"
   },
   "outputs": [
    {
     "data": {
      "text/plain": [
       "array([3, 2, 1, 0], dtype=int64)"
      ]
     },
     "execution_count": 591,
     "metadata": {},
     "output_type": "execute_result"
    }
   ],
   "source": [
    "dataset[\"cp\"].unique()"
   ]
  },
  {
   "cell_type": "code",
   "execution_count": 592,
   "metadata": {
    "_uuid": "56d6ed2b3d8d20a61814980cd459502b452d14c1",
    "colab": {
     "base_uri": "https://localhost:8080/",
     "height": 296
    },
    "id": "YwJG2-GcO-Kn",
    "outputId": "8b59bf69-8537-4e44-8326-3a2761215cce"
   },
   "outputs": [
    {
     "data": {
      "text/plain": [
       "<matplotlib.axes._subplots.AxesSubplot at 0x29785f20d30>"
      ]
     },
     "execution_count": 592,
     "metadata": {},
     "output_type": "execute_result"
    },
    {
     "data": {
      "image/png": "[encoded data removed]",
      "text/plain": [
       "<Figure size 432x288 with 1 Axes>"
      ]
     },
     "metadata": {
      "needs_background": "light"
     },
     "output_type": "display_data"
    }
   ],
   "source": [
    "sns.barplot(dataset[\"cp\"],y)"
   ]
  },
  {
   "cell_type": "code",
   "execution_count": 593,
   "metadata": {
    "_uuid": "43d491d311a8b96a6a9cbecbeff87f577584cd3a",
    "colab": {
     "base_uri": "https://localhost:8080/"
    },
    "id": "8SFij71qO-Ko",
    "outputId": "4ae1d1b9-d8a1-4cb1-b100-a149f39cbb85"
   },
   "outputs": [
    {
     "data": {
      "text/plain": [
       "array([1, 0], dtype=int64)"
      ]
     },
     "execution_count": 593,
     "metadata": {},
     "output_type": "execute_result"
    }
   ],
   "source": [
    "dataset[\"fbs\"].unique()"
   ]
  },
  {
   "cell_type": "code",
   "execution_count": 594,
   "metadata": {
    "_uuid": "90509dcee97df858115131c771e69347a044aafb",
    "colab": {
     "base_uri": "https://localhost:8080/",
     "height": 296
    },
    "id": "wgl59pCKO-Ko",
    "outputId": "6969f5e2-017c-4b5f-adb0-7921f81140b1"
   },
   "outputs": [
    {
     "data": {
      "text/plain": [
       "<matplotlib.axes._subplots.AxesSubplot at 0x29785f7d6d8>"
      ]
     },
     "execution_count": 594,
     "metadata": {},
     "output_type": "execute_result"
    },
    {
     "data": {
      "image/png": "[encoded data removed]",
      "text/plain": [
       "<Figure size 432x288 with 1 Axes>"
      ]
     },
     "metadata": {
      "needs_background": "light"
     },
     "output_type": "display_data"
    }
   ],
   "source": [
    "sns.barplot(dataset[\"fbs\"],y)"
   ]
  },
  {
   "cell_type": "code",
   "execution_count": 595,
   "metadata": {
    "_uuid": "b12fcc535fe07bc58aa99e97ec9b4e0b01f30a8d",
    "colab": {
     "base_uri": "https://localhost:8080/"
    },
    "id": "BLVvPyhTO-Kp",
    "outputId": "29d17b9c-8531-41f1-b00d-05a2865c9169"
   },
   "outputs": [
    {
     "data": {
      "text/plain": [
       "array([0, 1, 2], dtype=int64)"
      ]
     },
     "execution_count": 595,
     "metadata": {},
     "output_type": "execute_result"
    }
   ],
   "source": [
    "dataset[\"restecg\"].unique()"
   ]
  },
  {
   "cell_type": "code",
   "execution_count": 596,
   "metadata": {
    "_uuid": "ccae9489c2b6e63adb87cef83d367f49ef08a133",
    "colab": {
     "base_uri": "https://localhost:8080/",
     "height": 296
    },
    "id": "FpJ_qJAyO-Kp",
    "outputId": "c9a0aa84-b4db-46b1-abe2-8d4e371d2893"
   },
   "outputs": [
    {
     "data": {
      "text/plain": [
       "<matplotlib.axes._subplots.AxesSubplot at 0x29785fc5978>"
      ]
     },
     "execution_count": 596,
     "metadata": {},
     "output_type": "execute_result"
    },
    {
     "data": {
      "image/png": "[encoded data removed]",
      "text/plain": [
       "<Figure size 432x288 with 1 Axes>"
      ]
     },
     "metadata": {
      "needs_background": "light"
     },
     "output_type": "display_data"
    }
   ],
   "source": [
    "sns.barplot(dataset[\"restecg\"],y)"
   ]
  },
  {
   "cell_type": "code",
   "execution_count": 597,
   "metadata": {
    "_uuid": "53dd2985ea50aa6f9c9e5931050b4ef7b7aa609d",
    "colab": {
     "base_uri": "https://localhost:8080/"
    },
    "id": "WsxVMuN_O-Kq",
    "outputId": "47ca28e4-b200-4951-982b-3de3aec1bef1"
   },
   "outputs": [
    {
     "data": {
      "text/plain": [
       "array([0, 1], dtype=int64)"
      ]
     },
     "execution_count": 597,
     "metadata": {},
     "output_type": "execute_result"
    }
   ],
   "source": [
    "dataset[\"exang\"].unique()"
   ]
  },
  {
   "cell_type": "code",
   "execution_count": 598,
   "metadata": {
    "_uuid": "237a60a2a11dab86e50cafcee4ec47df752876a1",
    "colab": {
     "base_uri": "https://localhost:8080/",
     "height": 296
    },
    "id": "Umkxjth7O-Kq",
    "outputId": "e4b286b0-ded0-4edd-8e6e-dedf8a17f0cd"
   },
   "outputs": [
    {
     "data": {
      "text/plain": [
       "<matplotlib.axes._subplots.AxesSubplot at 0x29786020b38>"
      ]
     },
     "execution_count": 598,
     "metadata": {},
     "output_type": "execute_result"
    },
    {
     "data": {
      "image/png": "[encoded data removed]",
      "text/plain": [
       "<Figure size 432x288 with 1 Axes>"
      ]
     },
     "metadata": {
      "needs_background": "light"
     },
     "output_type": "display_data"
    }
   ],
   "source": [
    "sns.barplot(dataset[\"exang\"],y)"
   ]
  },
  {
   "cell_type": "code",
   "execution_count": 599,
   "metadata": {
    "_uuid": "e1e148d25967c36d2bb5fbfb802c70dae93f8a4f",
    "colab": {
     "base_uri": "https://localhost:8080/"
    },
    "id": "LtG4tok0O-Kr",
    "outputId": "bd3b8c3f-5cda-448c-fc99-b9b20fe574a4"
   },
   "outputs": [
    {
     "data": {
      "text/plain": [
       "array([0, 2, 1], dtype=int64)"
      ]
     },
     "execution_count": 599,
     "metadata": {},
     "output_type": "execute_result"
    }
   ],
   "source": [
    "dataset[\"slope\"].unique()"
   ]
  },
  {
   "cell_type": "code",
   "execution_count": 600,
   "metadata": {
    "_uuid": "beaa943c166b3c550fe357e6e937dbda46b707c9",
    "colab": {
     "base_uri": "https://localhost:8080/",
     "height": 296
    },
    "id": "Dmm98Ve_O-Kr",
    "outputId": "98134f62-fedb-48e3-9f97-bf50bb44e882"
   },
   "outputs": [
    {
     "data": {
      "text/plain": [
       "<matplotlib.axes._subplots.AxesSubplot at 0x29786074748>"
      ]
     },
     "execution_count": 600,
     "metadata": {},
     "output_type": "execute_result"
    },
    {
     "data": {
      "image/png": "[encoded data removed]",
      "text/plain": [
       "<Figure size 432x288 with 1 Axes>"
      ]
     },
     "metadata": {
      "needs_background": "light"
     },
     "output_type": "display_data"
    }
   ],
   "source": [
    "sns.barplot(dataset[\"slope\"],y)"
   ]
  },
  {
   "cell_type": "code",
   "execution_count": 601,
   "metadata": {
    "_uuid": "a3b7ed6661d24dc399963afbca1e08d79243b431",
    "colab": {
     "base_uri": "https://localhost:8080/"
    },
    "id": "DydirZiCO-Kx",
    "outputId": "ccfed2c8-57b2-4a07-a3c5-ded83a832093"
   },
   "outputs": [
    {
     "data": {
      "text/plain": [
       "array([0, 2, 1, 3, 4], dtype=int64)"
      ]
     },
     "execution_count": 601,
     "metadata": {},
     "output_type": "execute_result"
    }
   ],
   "source": [
    "dataset[\"ca\"].unique()"
   ]
  },
  {
   "cell_type": "code",
   "execution_count": 602,
   "metadata": {
    "_uuid": "81483318bc63c7434eeb75515483c329abcf15e3",
    "colab": {
     "base_uri": "https://localhost:8080/",
     "height": 296
    },
    "id": "kav5jFIYO-Ky",
    "outputId": "57c6c546-1541-4382-f4a1-04477eea5c2f"
   },
   "outputs": [
    {
     "data": {
      "text/plain": [
       "<matplotlib.axes._subplots.AxesSubplot at 0x297862c0588>"
      ]
     },
     "execution_count": 602,
     "metadata": {},
     "output_type": "execute_result"
    },
    {
     "data": {
      "image/png": "[encoded data removed]",
      "text/plain": [
       "<Figure size 432x288 with 1 Axes>"
      ]
     },
     "metadata": {
      "needs_background": "light"
     },
     "output_type": "display_data"
    }
   ],
   "source": [
    "sns.barplot(dataset[\"ca\"],y)"
   ]
  },
  {
   "cell_type": "code",
   "execution_count": 603,
   "metadata": {
    "_uuid": "16eaf9a5f7433be2028369818aa54e2bf01e544e",
    "colab": {
     "base_uri": "https://localhost:8080/"
    },
    "id": "5N3lzikxO-Ky",
    "outputId": "fe9f797a-231e-47f4-b19a-abdcfd45a4ff"
   },
   "outputs": [
    {
     "data": {
      "text/plain": [
       "array([1, 2, 3, 0], dtype=int64)"
      ]
     },
     "execution_count": 603,
     "metadata": {},
     "output_type": "execute_result"
    }
   ],
   "source": [
    "dataset[\"thal\"].unique()"
   ]
  },
  {
   "cell_type": "code",
   "execution_count": 604,
   "metadata": {
    "_uuid": "08947d9c4b05d68b2fe5ae70e33566063c44f8d4",
    "colab": {
     "base_uri": "https://localhost:8080/",
     "height": 296
    },
    "id": "5Y8Jr2LrO-Kz",
    "outputId": "f9235ba0-4dbd-4d3c-cc26-587adb0975e6"
   },
   "outputs": [
    {
     "data": {
      "text/plain": [
       "<matplotlib.axes._subplots.AxesSubplot at 0x29786329668>"
      ]
     },
     "execution_count": 604,
     "metadata": {},
     "output_type": "execute_result"
    },
    {
     "data": {
      "image/png": "[encoded data removed]",
      "text/plain": [
       "<Figure size 432x288 with 1 Axes>"
      ]
     },
     "metadata": {
      "needs_background": "light"
     },
     "output_type": "display_data"
    }
   ],
   "source": [
    "sns.barplot(dataset[\"thal\"],y)"
   ]
  },
  {
   "cell_type": "code",
   "execution_count": 605,
   "metadata": {
    "_uuid": "829fcda5b63e1b9f7ecb7762e8ca617166533aca",
    "id": "DzLj4h_QO-Kz"
   },
   "outputs": [],
   "source": [
    "from sklearn.model_selection import train_test_split\n",
    "\n",
    "predictors = dataset.drop(\"target\",axis=1)\n",
    "target = dataset[\"target\"]\n",
    "\n",
    "X_train,X_test,Y_train,Y_test = train_test_split(predictors,target,test_size=0.2,random_state=0)"
   ]
  },
  {
   "cell_type": "code",
   "execution_count": 606,
   "metadata": {
    "_uuid": "7a74842015c2f193d16caa4fa25e2c4cbf1940f8",
    "colab": {
     "base_uri": "https://localhost:8080/"
    },
    "id": "ZAUpO9b4O-K0",
    "outputId": "dede928b-c154-452b-9d60-a8d829b868a7"
   },
   "outputs": [
    {
     "data": {
      "text/plain": [
       "(242, 13)"
      ]
     },
     "execution_count": 606,
     "metadata": {},
     "output_type": "execute_result"
    }
   ],
   "source": [
    "X_train.shape"
   ]
  },
  {
   "cell_type": "code",
   "execution_count": 607,
   "metadata": {
    "_uuid": "1f777652df4521deb877dac4d5d635d8cd35b279",
    "colab": {
     "base_uri": "https://localhost:8080/"
    },
    "id": "vBQBwnqQO-K0",
    "outputId": "be87e9f0-0bdb-4464-87c2-9239f034ecf5"
   },
   "outputs": [
    {
     "data": {
      "text/plain": [
       "(61, 13)"
      ]
     },
     "execution_count": 607,
     "metadata": {},
     "output_type": "execute_result"
    }
   ],
   "source": [
    "X_test.shape"
   ]
  },
  {
   "cell_type": "code",
   "execution_count": 608,
   "metadata": {
    "_uuid": "028c968a076840657faf7dbc3bfee9fe7b5ca45a",
    "colab": {
     "base_uri": "https://localhost:8080/"
    },
    "id": "q--1PZueO-K0",
    "outputId": "d9159a2c-b7cb-4092-ff89-bc02360438ff"
   },
   "outputs": [
    {
     "data": {
      "text/plain": [
       "(242,)"
      ]
     },
     "execution_count": 608,
     "metadata": {},
     "output_type": "execute_result"
    }
   ],
   "source": [
    "Y_train.shape"
   ]
  },
  {
   "cell_type": "code",
   "execution_count": 609,
   "metadata": {
    "_uuid": "eb6857dfc18da52dae38bec95d20106f39136e61",
    "colab": {
     "base_uri": "https://localhost:8080/"
    },
    "id": "kq6h1f5YO-K0",
    "outputId": "78b0cbdf-cdca-4c7b-eca2-e7485c82a170"
   },
   "outputs": [
    {
     "data": {
      "text/plain": [
       "(61,)"
      ]
     },
     "execution_count": 609,
     "metadata": {},
     "output_type": "execute_result"
    }
   ],
   "source": [
    "Y_test.shape"
   ]
  },
  {
   "cell_type": "code",
   "execution_count": 610,
   "metadata": {
    "_uuid": "fe363c1be8335a48a4444660db5fa6bd0a24b71a",
    "id": "7O0Iq2cJO-K1"
   },
   "outputs": [],
   "source": [
    "from sklearn.metrics import accuracy_score"
   ]
  },
  {
   "cell_type": "markdown",
   "metadata": {
    "_uuid": "afa6b322cbc225f3353bd295aea24fe5fbbb78fe",
    "id": "73vrVGoIO-K1"
   },
   "source": [
    "### Logistic Regression\n"
   ]
  },
  {
   "cell_type": "code",
   "execution_count": 611,
   "metadata": {},
   "outputs": [],
   "source": [
    "from sklearn.linear_model import LogisticRegression\n",
    "max_accuracy = 0\n",
    "for x in range(2000):\n",
    "    lr = LogisticRegression(random_state = x,penalty = 'l1', solver='liblinear')\n",
    "    lr.fit(X_train,Y_train)\n",
    "    Y_pred_lr = lr.predict(X_test)\n",
    "    if(current_accuracy>max_accuracy):\n",
    "        max_accuracy = current_accuracy\n",
    "        best_x = x\n",
    "lr = LogisticRegression(random_state = best_x, penalty = 'l1', solver='liblinear')\n",
    "lr.fit(X_train,Y_train)\n",
    "Y_pred_lr = lr.predict(X_test)\n"
   ]
  },
  {
   "cell_type": "code",
   "execution_count": 612,
   "metadata": {
    "_uuid": "58fb833d1c74355ebdafe926968632942f377421",
    "colab": {
     "base_uri": "https://localhost:8080/"
    },
    "id": "AkSk93L-O-K2",
    "outputId": "64a052ba-50b9-488c-cd1f-87eb504814bd"
   },
   "outputs": [
    {
     "data": {
      "text/plain": [
       "(61,)"
      ]
     },
     "execution_count": 612,
     "metadata": {},
     "output_type": "execute_result"
    }
   ],
   "source": [
    "Y_pred_lr.shape"
   ]
  },
  {
   "cell_type": "code",
   "execution_count": 613,
   "metadata": {
    "_uuid": "ee4cba838316adf863f8daf131d36a970d36b839",
    "colab": {
     "base_uri": "https://localhost:8080/"
    },
    "id": "jlZmXraaO-K2",
    "outputId": "4cc735ea-2398-4276-ec0d-b91ca14b4663"
   },
   "outputs": [
    {
     "name": "stdout",
     "output_type": "stream",
     "text": [
      "The accuracy score achieved using Logistic Regression is: 85.25 %\n"
     ]
    }
   ],
   "source": [
    "accuracy_score(Y_test,Y_pred_lr)\n",
    "score_lr = round(accuracy_score(Y_test,Y_pred_lr)*100,2)\n",
    "\n",
    "print(\"The accuracy score achieved using Logistic Regression is: \"+str(score_lr)+\" %\")"
   ]
  },
  {
   "cell_type": "markdown",
   "metadata": {
    "_uuid": "4f92fceb9584ae03d3ab370ee11899cb287be690",
    "id": "DgVVq_sxO-K2"
   },
   "source": [
    "### Naive Bayes"
   ]
  },
  {
   "cell_type": "code",
   "execution_count": 614,
   "metadata": {
    "_uuid": "ffcdab99b4108902547f0179a242a9757078dc68",
    "id": "YOghf4AvO-K2"
   },
   "outputs": [],
   "source": [
    "from sklearn.naive_bayes import GaussianNB\n",
    "\n",
    "nb = GaussianNB(priors=None,var_smoothing=1e-09)\n",
    "\n",
    "nb.fit(X_train,Y_train)\n",
    "\n",
    "Y_pred_nb = nb.predict(X_test)"
   ]
  },
  {
   "cell_type": "code",
   "execution_count": 615,
   "metadata": {
    "_uuid": "9109059d06e4c92494451b3cdab0bbb5a1816072",
    "colab": {
     "base_uri": "https://localhost:8080/"
    },
    "id": "VbFqpXc3O-K3",
    "outputId": "0ba63b19-612e-4e97-a83c-f290f9981a80"
   },
   "outputs": [
    {
     "data": {
      "text/plain": [
       "(61,)"
      ]
     },
     "execution_count": 615,
     "metadata": {},
     "output_type": "execute_result"
    }
   ],
   "source": [
    "Y_pred_nb.shape"
   ]
  },
  {
   "cell_type": "code",
   "execution_count": 616,
   "metadata": {
    "_uuid": "e8f8f55db061ada0b669ffa46e9ecc745fcda1ae",
    "colab": {
     "base_uri": "https://localhost:8080/"
    },
    "id": "lQWSARELO-K3",
    "outputId": "c61f328f-00ac-4567-835d-4d161d790f62"
   },
   "outputs": [
    {
     "name": "stdout",
     "output_type": "stream",
     "text": [
      "The accuracy score achieved using Naive Bayes is: 85.25 %\n"
     ]
    }
   ],
   "source": [
    "score_nb = round(accuracy_score(Y_pred_nb,Y_test)*100,2)\n",
    "\n",
    "print(\"The accuracy score achieved using Naive Bayes is: \"+str(score_nb)+\" %\")"
   ]
  },
  {
   "cell_type": "markdown",
   "metadata": {
    "_uuid": "2af8b010893284bae0d6cccf66ccfda646e7ca58",
    "id": "t_K_MppWO-K3"
   },
   "source": [
    "### SVM"
   ]
  },
  {
   "cell_type": "code",
   "execution_count": 617,
   "metadata": {
    "_uuid": "f1936ece7b76b67e552758a4c80e9421bffe0bc2",
    "id": "07v-mQcVO-K3"
   },
   "outputs": [],
   "source": [
    "from sklearn import svm\n",
    "\n",
    "sv = svm.SVC(kernel='linear')\n",
    "\n",
    "sv.fit(X_train, Y_train)\n",
    "\n",
    "Y_pred_svm = sv.predict(X_test)"
   ]
  },
  {
   "cell_type": "code",
   "execution_count": 618,
   "metadata": {
    "_uuid": "36f60f104264d44760705b9c802504f426e15592",
    "colab": {
     "base_uri": "https://localhost:8080/"
    },
    "id": "3QEJU0X8O-K4",
    "outputId": "f4bcf5fa-5f2f-461b-c333-464a1e99b61d"
   },
   "outputs": [
    {
     "data": {
      "text/plain": [
       "(61,)"
      ]
     },
     "execution_count": 618,
     "metadata": {},
     "output_type": "execute_result"
    }
   ],
   "source": [
    "Y_pred_svm.shape"
   ]
  },
  {
   "cell_type": "code",
   "execution_count": 619,
   "metadata": {
    "_uuid": "f5a73bca6721f42b3983c328fd475390ba9bc4d3",
    "colab": {
     "base_uri": "https://localhost:8080/"
    },
    "id": "GDp9ul0HO-K4",
    "outputId": "71a0cf7f-971f-42f2-f47c-67ef8fa7d713"
   },
   "outputs": [
    {
     "name": "stdout",
     "output_type": "stream",
     "text": [
      "The accuracy score achieved using Linear SVM is: 81.97 %\n"
     ]
    }
   ],
   "source": [
    "score_svm = round(accuracy_score(Y_pred_svm,Y_test)*100,2)\n",
    "\n",
    "print(\"The accuracy score achieved using Linear SVM is: \"+str(score_svm)+\" %\")"
   ]
  },
  {
   "cell_type": "markdown",
   "metadata": {
    "_uuid": "abb767170c662e4d9a8b240fd0fd7286ffb0b67f",
    "id": "MUxx-IKUO-K5"
   },
   "source": [
    "### Decision Tree"
   ]
  },
  {
   "cell_type": "code",
   "execution_count": 623,
   "metadata": {
    "_uuid": "8c141316764dce80103d1879c9b17d853702a746",
    "id": "X9K6rUbNO-K5"
   },
   "outputs": [
    {
     "name": "stdout",
     "output_type": "stream",
     "text": [
      "81.97\n",
      "11\n"
     ]
    }
   ],
   "source": [
    "from sklearn.tree import DecisionTreeClassifier\n",
    "\n",
    "max_accuracy = 0\n",
    "\n",
    "\n",
    "for x in range(2000):\n",
    "    dt = DecisionTreeClassifier(random_state=x)\n",
    "    dt.fit(X_train,Y_train)\n",
    "    Y_pred_dt = dt.predict(X_test)\n",
    "    current_accuracy = round(accuracy_score(Y_pred_dt,Y_test)*100,2)\n",
    "    if(current_accuracy>max_accuracy):\n",
    "        max_accuracy = current_accuracy\n",
    "        best_x = x\n",
    "print(max_accuracy)      \n",
    "print(best_x)\n",
    "\n",
    "dt = DecisionTreeClassifier(random_state=best_x)\n",
    "dt.fit(X_train,Y_train)\n",
    "Y_pred_dt = dt.predict(X_test)"
   ]
  },
  {
   "cell_type": "code",
   "execution_count": 624,
   "metadata": {
    "_uuid": "8de0bd2d57abd24d3a97a5b020a24439eb106f2b",
    "colab": {
     "base_uri": "https://localhost:8080/"
    },
    "id": "3_1J7-seO-K6",
    "outputId": "80fc3f8f-ad9d-440f-8a31-7e217219c5ab"
   },
   "outputs": [
    {
     "name": "stdout",
     "output_type": "stream",
     "text": [
      "(61,)\n"
     ]
    }
   ],
   "source": [
    "print(Y_pred_dt.shape)\n"
   ]
  },
  {
   "cell_type": "code",
   "execution_count": 625,
   "metadata": {
    "_uuid": "52ab93482d3b53824e9bc2b3e4114c57253e0c5b",
    "colab": {
     "base_uri": "https://localhost:8080/"
    },
    "id": "516L-sIlO-K6",
    "outputId": "7ed59a18-2ddc-49ad-af5c-4f44cb47d50b"
   },
   "outputs": [
    {
     "name": "stdout",
     "output_type": "stream",
     "text": [
      "The accuracy score achieved using Decision Tree is: 81.97 %\n"
     ]
    }
   ],
   "source": [
    "score_dt = round(accuracy_score(Y_pred_dt,Y_test)*100,2)\n",
    "\n",
    "print(\"The accuracy score achieved using Decision Tree is: \"+str(score_dt)+\" %\")"
   ]
  },
  {
   "cell_type": "markdown",
   "metadata": {
    "_uuid": "9e663d26efb00a434751f06ad0292949eff6c358",
    "id": "JNgU88eBO-K6"
   },
   "source": [
    "### Random Forest"
   ]
  },
  {
   "cell_type": "code",
   "execution_count": 626,
   "metadata": {
    "_uuid": "8284f5222cf90be1bcd37887c45f91cf22ed1193",
    "id": "ATfgut21O-K6"
   },
   "outputs": [],
   "source": [
    "from sklearn.ensemble import RandomForestClassifier\n",
    "\n",
    "max_accuracy = 0\n",
    "for x in range(2000):\n",
    "    rf = RandomForestClassifier(random_state=x,n_estimators=10,n_jobs = 1)\n",
    "    rf.fit(X_train,Y_train)\n",
    "    Y_pred_rf = rf.predict(X_test)\n",
    "    current_accuracy = round(accuracy_score(Y_pred_rf,Y_test)*100,2)\n",
    "    if(current_accuracy>max_accuracy):\n",
    "        max_accuracy = current_accuracy\n",
    "        best_x = x\n",
    "        \n",
    "rf = RandomForestClassifier(random_state=best_x,n_estimators=10,n_jobs = 1)\n",
    "rf.fit(X_train,Y_train)\n",
    "Y_pred_rf = rf.predict(X_test)"
   ]
  },
  {
   "cell_type": "code",
   "execution_count": 627,
   "metadata": {
    "_uuid": "edc8e1cbb57be0aa9e9ad5f4997212d53a9a4c99",
    "id": "KrDTvMl7O-K7"
   },
   "outputs": [
    {
     "name": "stdout",
     "output_type": "stream",
     "text": [
      "95.08\n",
      "1818\n"
     ]
    },
    {
     "data": {
      "text/plain": [
       "(61,)"
      ]
     },
     "execution_count": 627,
     "metadata": {},
     "output_type": "execute_result"
    }
   ],
   "source": [
    "print(max_accuracy)\n",
    "print(best_x)\n",
    "Y_pred_rf.shape"
   ]
  },
  {
   "cell_type": "code",
   "execution_count": 628,
   "metadata": {
    "_uuid": "965228f30e05e07e7960a3375dc7dc85b49caed7",
    "id": "utCrOJ5vO-K7"
   },
   "outputs": [
    {
     "name": "stdout",
     "output_type": "stream",
     "text": [
      "The accuracy score achieved using Random forest Tree is: 95.08 %\n"
     ]
    }
   ],
   "source": [
    "score_rf = round(accuracy_score(Y_pred_rf,Y_test)*100,2)\n",
    "\n",
    "print(\"The accuracy score achieved using Random forest Tree is: \"+str(score_rf)+\" %\")"
   ]
  },
  {
   "cell_type": "markdown",
   "metadata": {},
   "source": [
    "### XGBoost\n"
   ]
  },
  {
   "cell_type": "code",
   "execution_count": 629,
   "metadata": {},
   "outputs": [
    {
     "name": "stdout",
     "output_type": "stream",
     "text": [
      "[10:15:13] WARNING: C:/Users/Administrator/workspace/xgboost-win64_release_1.4.0/src/learner.cc:1095: Starting in XGBoost 1.3.0, the default evaluation metric used with the objective 'binary:logistic' was changed from 'error' to 'logloss'. Explicitly set eval_metric if you'd like to restore the old behavior.\n"
     ]
    }
   ],
   "source": [
    "import xgboost as xgb\n",
    "\n",
    "xgb_model = xgb.XGBClassifier(objective=\"binary:logistic\",eta=0.4,max_depth=1,min_child_weight=3,max_leaves=10,max_delta_step=4)\n",
    "xgb_model.fit(X_train, Y_train)\n",
    "\n",
    "Y_pred_xgb = xgb_model.predict(X_test)"
   ]
  },
  {
   "cell_type": "code",
   "execution_count": 630,
   "metadata": {},
   "outputs": [
    {
     "data": {
      "text/plain": [
       "(61,)"
      ]
     },
     "execution_count": 630,
     "metadata": {},
     "output_type": "execute_result"
    }
   ],
   "source": [
    "Y_pred_xgb.shape"
   ]
  },
  {
   "cell_type": "code",
   "execution_count": 631,
   "metadata": {},
   "outputs": [
    {
     "name": "stdout",
     "output_type": "stream",
     "text": [
      "The accuracy score achieved using XGBoost is: 88.52 %\n"
     ]
    }
   ],
   "source": [
    "score_xgb = round(accuracy_score(Y_pred_xgb,Y_test)*100,2)\n",
    "\n",
    "print(\"The accuracy score achieved using XGBoost is: \"+str(score_xgb)+\" %\")"
   ]
  },
  {
   "cell_type": "markdown",
   "metadata": {
    "_uuid": "e224ab23f275a3a56cdba6a9ccfddbd6a4d3b4fd",
    "id": "0uMpz27TO-K9"
   },
   "source": [
    "### Neural Network"
   ]
  },
  {
   "cell_type": "code",
   "execution_count": 659,
   "metadata": {
    "_uuid": "727b391ad6d86468a96e93dc645ade6e2da4048e",
    "id": "WeDui8GKO-K9"
   },
   "outputs": [],
   "source": [
    "from keras.models import Sequential\n",
    "from keras.layers import Dense"
   ]
  },
  {
   "cell_type": "code",
   "execution_count": 660,
   "metadata": {
    "_uuid": "650f1baa7db466923626c707408319fa29f22d10",
    "id": "iwPcSAytO-K9"
   },
   "outputs": [],
   "source": [
    "model = Sequential()\n",
    "model.add(Dense(8,activation='relu',input_dim=13,kernel_initializer=\"uniform\"))\n",
    "model.add(Dense(activation = \"relu\", units = 14,kernel_initializer = \"uniform\"))\n",
    "model.add(Dense(1,activation='sigmoid',kernel_initializer = \"uniform\"))\n",
    "\n",
    "model.compile(loss='binary_crossentropy',optimizer='adam',metrics=['accuracy'])"
   ]
  },
  {
   "cell_type": "code",
   "execution_count": 661,
   "metadata": {
    "_uuid": "dde4e50b5c4c24c73b03133fc7c90bf663fd6d82",
    "id": "wFRxl8kuO-K9"
   },
   "outputs": [
    {
     "name": "stdout",
     "output_type": "stream",
     "text": [
      "Epoch 1/300\n",
      "31/31 [==============================] - 1s 1ms/step - loss: 0.6935 - accuracy: 0.4866\n",
      "Epoch 2/300\n",
      "31/31 [==============================] - 0s 1ms/step - loss: 0.6912 - accuracy: 0.5633\n",
      "Epoch 3/300\n",
      "31/31 [==============================] - 0s 1ms/step - loss: 0.6910 - accuracy: 0.5288\n",
      "Epoch 4/300\n",
      "31/31 [==============================] - 0s 1ms/step - loss: 0.6845 - accuracy: 0.5728\n",
      "Epoch 5/300\n",
      "31/31 [==============================] - 0s 1ms/step - loss: 0.6906 - accuracy: 0.5019\n",
      "Epoch 6/300\n",
      "31/31 [==============================] - 0s 1ms/step - loss: 0.6854 - accuracy: 0.5227\n",
      "Epoch 7/300\n",
      "31/31 [==============================] - 0s 1ms/step - loss: 0.6804 - accuracy: 0.5233\n",
      "Epoch 8/300\n",
      "31/31 [==============================] - 0s 1ms/step - loss: 0.6671 - accuracy: 0.5584\n",
      "Epoch 9/300\n",
      "31/31 [==============================] - 0s 1ms/step - loss: 0.6426 - accuracy: 0.6008\n",
      "Epoch 10/300\n",
      "31/31 [==============================] - 0s 1ms/step - loss: 0.6443 - accuracy: 0.6257\n",
      "Epoch 11/300\n",
      "31/31 [==============================] - 0s 1ms/step - loss: 0.6084 - accuracy: 0.7484\n",
      "Epoch 12/300\n",
      "31/31 [==============================] - 0s 1ms/step - loss: 0.5916 - accuracy: 0.7329\n",
      "Epoch 13/300\n",
      "31/31 [==============================] - 0s 1ms/step - loss: 0.6129 - accuracy: 0.6648\n",
      "Epoch 14/300\n",
      "31/31 [==============================] - 0s 1ms/step - loss: 0.5755 - accuracy: 0.7087\n",
      "Epoch 15/300\n",
      "31/31 [==============================] - 0s 1ms/step - loss: 0.5593 - accuracy: 0.7357\n",
      "Epoch 16/300\n",
      "31/31 [==============================] - 0s 1ms/step - loss: 0.5070 - accuracy: 0.7587\n",
      "Epoch 17/300\n",
      "31/31 [==============================] - 0s 1ms/step - loss: 0.5575 - accuracy: 0.7398\n",
      "Epoch 18/300\n",
      "31/31 [==============================] - 0s 1ms/step - loss: 0.5158 - accuracy: 0.7611\n",
      "Epoch 19/300\n",
      "31/31 [==============================] - 0s 1ms/step - loss: 0.5063 - accuracy: 0.7300\n",
      "Epoch 20/300\n",
      "31/31 [==============================] - 0s 1ms/step - loss: 0.4818 - accuracy: 0.7522\n",
      "Epoch 21/300\n",
      "31/31 [==============================] - 0s 1ms/step - loss: 0.4433 - accuracy: 0.7812\n",
      "Epoch 22/300\n",
      "31/31 [==============================] - 0s 1ms/step - loss: 0.4471 - accuracy: 0.8102\n",
      "Epoch 23/300\n",
      "31/31 [==============================] - 0s 1ms/step - loss: 0.4194 - accuracy: 0.7933\n",
      "Epoch 24/300\n",
      "31/31 [==============================] - 0s 1ms/step - loss: 0.4919 - accuracy: 0.7107\n",
      "Epoch 25/300\n",
      "31/31 [==============================] - 0s 1ms/step - loss: 0.4014 - accuracy: 0.8537\n",
      "Epoch 26/300\n",
      "31/31 [==============================] - 0s 1ms/step - loss: 0.4623 - accuracy: 0.7792\n",
      "Epoch 27/300\n",
      "31/31 [==============================] - 0s 1ms/step - loss: 0.4639 - accuracy: 0.7620\n",
      "Epoch 28/300\n",
      "31/31 [==============================] - 0s 1ms/step - loss: 0.4222 - accuracy: 0.7869\n",
      "Epoch 29/300\n",
      "31/31 [==============================] - 0s 1ms/step - loss: 0.4935 - accuracy: 0.7728\n",
      "Epoch 30/300\n",
      "31/31 [==============================] - 0s 1ms/step - loss: 0.4390 - accuracy: 0.8069\n",
      "Epoch 31/300\n",
      "31/31 [==============================] - 0s 1ms/step - loss: 0.4222 - accuracy: 0.8159\n",
      "Epoch 32/300\n",
      "31/31 [==============================] - 0s 1ms/step - loss: 0.4701 - accuracy: 0.7893\n",
      "Epoch 33/300\n",
      "31/31 [==============================] - 0s 1ms/step - loss: 0.4058 - accuracy: 0.8128\n",
      "Epoch 34/300\n",
      "31/31 [==============================] - 0s 1ms/step - loss: 0.4231 - accuracy: 0.7973\n",
      "Epoch 35/300\n",
      "31/31 [==============================] - 0s 1ms/step - loss: 0.4557 - accuracy: 0.7701\n",
      "Epoch 36/300\n",
      "31/31 [==============================] - 0s 1ms/step - loss: 0.4222 - accuracy: 0.8239\n",
      "Epoch 37/300\n",
      "31/31 [==============================] - 0s 1ms/step - loss: 0.3877 - accuracy: 0.8274\n",
      "Epoch 38/300\n",
      "31/31 [==============================] - 0s 1ms/step - loss: 0.4148 - accuracy: 0.8083\n",
      "Epoch 39/300\n",
      "31/31 [==============================] - 0s 1ms/step - loss: 0.4224 - accuracy: 0.7752\n",
      "Epoch 40/300\n",
      "31/31 [==============================] - 0s 1ms/step - loss: 0.4429 - accuracy: 0.8153\n",
      "Epoch 41/300\n",
      "31/31 [==============================] - 0s 1ms/step - loss: 0.4084 - accuracy: 0.8123\n",
      "Epoch 42/300\n",
      "31/31 [==============================] - 0s 1ms/step - loss: 0.4301 - accuracy: 0.8053\n",
      "Epoch 43/300\n",
      "31/31 [==============================] - 0s 1ms/step - loss: 0.4177 - accuracy: 0.8102\n",
      "Epoch 44/300\n",
      "31/31 [==============================] - 0s 1ms/step - loss: 0.3511 - accuracy: 0.8689\n",
      "Epoch 45/300\n",
      "31/31 [==============================] - 0s 1ms/step - loss: 0.4488 - accuracy: 0.8058\n",
      "Epoch 46/300\n",
      "31/31 [==============================] - 0s 1ms/step - loss: 0.3629 - accuracy: 0.8319\n",
      "Epoch 47/300\n",
      "31/31 [==============================] - 0s 1ms/step - loss: 0.4429 - accuracy: 0.8037\n",
      "Epoch 48/300\n",
      "31/31 [==============================] - 0s 1ms/step - loss: 0.4096 - accuracy: 0.7901\n",
      "Epoch 49/300\n",
      "31/31 [==============================] - 0s 1ms/step - loss: 0.4021 - accuracy: 0.8573\n",
      "Epoch 50/300\n",
      "31/31 [==============================] - 0s 1ms/step - loss: 0.3633 - accuracy: 0.8335\n",
      "Epoch 51/300\n",
      "31/31 [==============================] - 0s 1ms/step - loss: 0.4122 - accuracy: 0.8075\n",
      "Epoch 52/300\n",
      "31/31 [==============================] - 0s 1ms/step - loss: 0.3672 - accuracy: 0.8677\n",
      "Epoch 53/300\n",
      "31/31 [==============================] - 0s 1ms/step - loss: 0.4782 - accuracy: 0.8070\n",
      "Epoch 54/300\n",
      "31/31 [==============================] - 0s 1ms/step - loss: 0.3800 - accuracy: 0.8258\n",
      "Epoch 55/300\n",
      "31/31 [==============================] - 0s 2ms/step - loss: 0.3772 - accuracy: 0.8180\n",
      "Epoch 56/300\n",
      "31/31 [==============================] - 0s 1ms/step - loss: 0.4153 - accuracy: 0.8089\n",
      "Epoch 57/300\n",
      "31/31 [==============================] - 0s 2ms/step - loss: 0.3634 - accuracy: 0.8468\n",
      "Epoch 58/300\n",
      "31/31 [==============================] - 0s 1ms/step - loss: 0.4595 - accuracy: 0.7789\n",
      "Epoch 59/300\n",
      "31/31 [==============================] - 0s 1ms/step - loss: 0.4588 - accuracy: 0.7875\n",
      "Epoch 60/300\n",
      "31/31 [==============================] - 0s 999us/step - loss: 0.3820 - accuracy: 0.8263\n",
      "Epoch 61/300\n",
      "31/31 [==============================] - 0s 932us/step - loss: 0.3639 - accuracy: 0.8430\n",
      "Epoch 62/300\n",
      "31/31 [==============================] - 0s 966us/step - loss: 0.3753 - accuracy: 0.8528\n",
      "Epoch 63/300\n",
      "31/31 [==============================] - 0s 1ms/step - loss: 0.4072 - accuracy: 0.8205\n",
      "Epoch 64/300\n",
      "31/31 [==============================] - 0s 1ms/step - loss: 0.3356 - accuracy: 0.8553\n",
      "Epoch 65/300\n",
      "31/31 [==============================] - 0s 1ms/step - loss: 0.4240 - accuracy: 0.8086\n",
      "Epoch 66/300\n",
      "31/31 [==============================] - 0s 1ms/step - loss: 0.3078 - accuracy: 0.8639\n",
      "Epoch 67/300\n",
      "31/31 [==============================] - 0s 966us/step - loss: 0.3871 - accuracy: 0.8139\n",
      "Epoch 68/300\n",
      "31/31 [==============================] - 0s 999us/step - loss: 0.4306 - accuracy: 0.8286\n",
      "Epoch 69/300\n",
      "31/31 [==============================] - 0s 932us/step - loss: 0.3650 - accuracy: 0.8519\n",
      "Epoch 70/300\n",
      "31/31 [==============================] - 0s 932us/step - loss: 0.3334 - accuracy: 0.8642\n",
      "Epoch 71/300\n",
      "31/31 [==============================] - 0s 899us/step - loss: 0.4128 - accuracy: 0.8140\n",
      "Epoch 72/300\n",
      "31/31 [==============================] - 0s 999us/step - loss: 0.3505 - accuracy: 0.8471\n",
      "Epoch 73/300\n",
      "31/31 [==============================] - 0s 1ms/step - loss: 0.3724 - accuracy: 0.8608\n",
      "Epoch 74/300\n",
      "31/31 [==============================] - 0s 966us/step - loss: 0.3843 - accuracy: 0.8429\n",
      "Epoch 75/300\n",
      "31/31 [==============================] - 0s 966us/step - loss: 0.4153 - accuracy: 0.7979\n",
      "Epoch 76/300\n",
      "31/31 [==============================] - 0s 966us/step - loss: 0.3871 - accuracy: 0.8276\n",
      "Epoch 77/300\n",
      "31/31 [==============================] - 0s 1ms/step - loss: 0.3350 - accuracy: 0.8441\n",
      "Epoch 78/300\n",
      "31/31 [==============================] - 0s 932us/step - loss: 0.3598 - accuracy: 0.8417\n",
      "Epoch 79/300\n",
      "31/31 [==============================] - 0s 1ms/step - loss: 0.3762 - accuracy: 0.8202\n",
      "Epoch 80/300\n",
      "31/31 [==============================] - 0s 966us/step - loss: 0.3625 - accuracy: 0.8726\n",
      "Epoch 81/300\n",
      "31/31 [==============================] - 0s 1ms/step - loss: 0.3490 - accuracy: 0.8686\n",
      "Epoch 82/300\n"
     ]
    },
    {
     "name": "stdout",
     "output_type": "stream",
     "text": [
      "31/31 [==============================] - 0s 1ms/step - loss: 0.4356 - accuracy: 0.7934\n",
      "Epoch 83/300\n",
      "31/31 [==============================] - 0s 1ms/step - loss: 0.4018 - accuracy: 0.7995\n",
      "Epoch 84/300\n",
      "31/31 [==============================] - 0s 1ms/step - loss: 0.4271 - accuracy: 0.8214\n",
      "Epoch 85/300\n",
      "31/31 [==============================] - 0s 1ms/step - loss: 0.3283 - accuracy: 0.8505\n",
      "Epoch 86/300\n",
      "31/31 [==============================] - 0s 1ms/step - loss: 0.4057 - accuracy: 0.8180\n",
      "Epoch 87/300\n",
      "31/31 [==============================] - 0s 1ms/step - loss: 0.3554 - accuracy: 0.8460\n",
      "Epoch 88/300\n",
      "31/31 [==============================] - 0s 1ms/step - loss: 0.3768 - accuracy: 0.8510\n",
      "Epoch 89/300\n",
      "31/31 [==============================] - 0s 999us/step - loss: 0.3852 - accuracy: 0.8480\n",
      "Epoch 90/300\n",
      "31/31 [==============================] - 0s 1ms/step - loss: 0.3515 - accuracy: 0.8432\n",
      "Epoch 91/300\n",
      "31/31 [==============================] - 0s 1ms/step - loss: 0.3786 - accuracy: 0.8471\n",
      "Epoch 92/300\n",
      "31/31 [==============================] - 0s 999us/step - loss: 0.3931 - accuracy: 0.8098\n",
      "Epoch 93/300\n",
      "31/31 [==============================] - 0s 999us/step - loss: 0.4308 - accuracy: 0.8002\n",
      "Epoch 94/300\n",
      "31/31 [==============================] - 0s 1ms/step - loss: 0.3357 - accuracy: 0.8558\n",
      "Epoch 95/300\n",
      "31/31 [==============================] - 0s 966us/step - loss: 0.3877 - accuracy: 0.8304\n",
      "Epoch 96/300\n",
      "31/31 [==============================] - 0s 932us/step - loss: 0.3995 - accuracy: 0.8305\n",
      "Epoch 97/300\n",
      "31/31 [==============================] - 0s 966us/step - loss: 0.3620 - accuracy: 0.8382\n",
      "Epoch 98/300\n",
      "31/31 [==============================] - 0s 1ms/step - loss: 0.3703 - accuracy: 0.8287\n",
      "Epoch 99/300\n",
      "31/31 [==============================] - 0s 1ms/step - loss: 0.3874 - accuracy: 0.8382\n",
      "Epoch 100/300\n",
      "31/31 [==============================] - 0s 932us/step - loss: 0.3684 - accuracy: 0.8241\n",
      "Epoch 101/300\n",
      "31/31 [==============================] - 0s 999us/step - loss: 0.3899 - accuracy: 0.8335\n",
      "Epoch 102/300\n",
      "31/31 [==============================] - 0s 932us/step - loss: 0.4383 - accuracy: 0.8045\n",
      "Epoch 103/300\n",
      "31/31 [==============================] - 0s 966us/step - loss: 0.3612 - accuracy: 0.8503\n",
      "Epoch 104/300\n",
      "31/31 [==============================] - 0s 966us/step - loss: 0.3466 - accuracy: 0.8644\n",
      "Epoch 105/300\n",
      "31/31 [==============================] - 0s 932us/step - loss: 0.4232 - accuracy: 0.7886\n",
      "Epoch 106/300\n",
      "31/31 [==============================] - 0s 999us/step - loss: 0.4124 - accuracy: 0.8419\n",
      "Epoch 107/300\n",
      "31/31 [==============================] - 0s 999us/step - loss: 0.3845 - accuracy: 0.8598\n",
      "Epoch 108/300\n",
      "31/31 [==============================] - 0s 999us/step - loss: 0.3879 - accuracy: 0.8424\n",
      "Epoch 109/300\n",
      "31/31 [==============================] - 0s 932us/step - loss: 0.3720 - accuracy: 0.8317\n",
      "Epoch 110/300\n",
      "31/31 [==============================] - 0s 1ms/step - loss: 0.3671 - accuracy: 0.8603\n",
      "Epoch 111/300\n",
      "31/31 [==============================] - 0s 966us/step - loss: 0.4147 - accuracy: 0.8174\n",
      "Epoch 112/300\n",
      "31/31 [==============================] - 0s 899us/step - loss: 0.3426 - accuracy: 0.8632\n",
      "Epoch 113/300\n",
      "31/31 [==============================] - 0s 899us/step - loss: 0.3568 - accuracy: 0.8481\n",
      "Epoch 114/300\n",
      "31/31 [==============================] - 0s 899us/step - loss: 0.3496 - accuracy: 0.8611\n",
      "Epoch 115/300\n",
      "31/31 [==============================] - 0s 966us/step - loss: 0.3500 - accuracy: 0.8254\n",
      "Epoch 116/300\n",
      "31/31 [==============================] - 0s 999us/step - loss: 0.3698 - accuracy: 0.8120\n",
      "Epoch 117/300\n",
      "31/31 [==============================] - 0s 999us/step - loss: 0.3268 - accuracy: 0.8823\n",
      "Epoch 118/300\n",
      "31/31 [==============================] - 0s 1ms/step - loss: 0.4172 - accuracy: 0.8114\n",
      "Epoch 119/300\n",
      "31/31 [==============================] - 0s 1ms/step - loss: 0.3610 - accuracy: 0.8592\n",
      "Epoch 120/300\n",
      "31/31 [==============================] - 0s 1ms/step - loss: 0.3438 - accuracy: 0.8484\n",
      "Epoch 121/300\n",
      "31/31 [==============================] - 0s 966us/step - loss: 0.3584 - accuracy: 0.8521\n",
      "Epoch 122/300\n",
      "31/31 [==============================] - 0s 999us/step - loss: 0.3670 - accuracy: 0.8554\n",
      "Epoch 123/300\n",
      "31/31 [==============================] - 0s 966us/step - loss: 0.3293 - accuracy: 0.8797\n",
      "Epoch 124/300\n",
      "31/31 [==============================] - 0s 999us/step - loss: 0.3729 - accuracy: 0.8340\n",
      "Epoch 125/300\n",
      "31/31 [==============================] - 0s 999us/step - loss: 0.3422 - accuracy: 0.8558\n",
      "Epoch 126/300\n",
      "31/31 [==============================] - 0s 966us/step - loss: 0.3362 - accuracy: 0.8540\n",
      "Epoch 127/300\n",
      "31/31 [==============================] - 0s 932us/step - loss: 0.4451 - accuracy: 0.7859\n",
      "Epoch 128/300\n",
      "31/31 [==============================] - 0s 966us/step - loss: 0.3220 - accuracy: 0.8629\n",
      "Epoch 129/300\n",
      "31/31 [==============================] - 0s 899us/step - loss: 0.3810 - accuracy: 0.8322\n",
      "Epoch 130/300\n",
      "31/31 [==============================] - 0s 999us/step - loss: 0.3732 - accuracy: 0.8206\n",
      "Epoch 131/300\n",
      "31/31 [==============================] - 0s 866us/step - loss: 0.3445 - accuracy: 0.8582\n",
      "Epoch 132/300\n",
      "31/31 [==============================] - 0s 1ms/step - loss: 0.3431 - accuracy: 0.8318\n",
      "Epoch 133/300\n",
      "31/31 [==============================] - 0s 1ms/step - loss: 0.4127 - accuracy: 0.8004\n",
      "Epoch 134/300\n",
      "31/31 [==============================] - 0s 1ms/step - loss: 0.3884 - accuracy: 0.7969\n",
      "Epoch 135/300\n",
      "31/31 [==============================] - 0s 1ms/step - loss: 0.3572 - accuracy: 0.8433\n",
      "Epoch 136/300\n",
      "31/31 [==============================] - 0s 1ms/step - loss: 0.3544 - accuracy: 0.8471\n",
      "Epoch 137/300\n",
      "31/31 [==============================] - 0s 1ms/step - loss: 0.3890 - accuracy: 0.8181\n",
      "Epoch 138/300\n",
      "31/31 [==============================] - 0s 1ms/step - loss: 0.4346 - accuracy: 0.7890\n",
      "Epoch 139/300\n",
      "31/31 [==============================] - 0s 1ms/step - loss: 0.3969 - accuracy: 0.8335\n",
      "Epoch 140/300\n",
      "31/31 [==============================] - 0s 1ms/step - loss: 0.3911 - accuracy: 0.8353\n",
      "Epoch 141/300\n",
      "31/31 [==============================] - 0s 1ms/step - loss: 0.3593 - accuracy: 0.8394\n",
      "Epoch 142/300\n",
      "31/31 [==============================] - 0s 1ms/step - loss: 0.3450 - accuracy: 0.8616\n",
      "Epoch 143/300\n",
      "31/31 [==============================] - 0s 999us/step - loss: 0.4388 - accuracy: 0.8028\n",
      "Epoch 144/300\n",
      "31/31 [==============================] - 0s 1ms/step - loss: 0.3623 - accuracy: 0.8465\n",
      "Epoch 145/300\n",
      "31/31 [==============================] - 0s 999us/step - loss: 0.4078 - accuracy: 0.8239\n",
      "Epoch 146/300\n",
      "31/31 [==============================] - 0s 1ms/step - loss: 0.3486 - accuracy: 0.8629\n",
      "Epoch 147/300\n",
      "31/31 [==============================] - 0s 1ms/step - loss: 0.3601 - accuracy: 0.8459\n",
      "Epoch 148/300\n",
      "31/31 [==============================] - 0s 1ms/step - loss: 0.3256 - accuracy: 0.8943\n",
      "Epoch 149/300\n",
      "31/31 [==============================] - 0s 1ms/step - loss: 0.3792 - accuracy: 0.8195\n",
      "Epoch 150/300\n",
      "31/31 [==============================] - 0s 1ms/step - loss: 0.3437 - accuracy: 0.8561\n",
      "Epoch 151/300\n",
      "31/31 [==============================] - 0s 999us/step - loss: 0.4151 - accuracy: 0.7958\n",
      "Epoch 152/300\n",
      "31/31 [==============================] - 0s 1ms/step - loss: 0.4403 - accuracy: 0.7727\n",
      "Epoch 153/300\n",
      "31/31 [==============================] - 0s 1ms/step - loss: 0.4261 - accuracy: 0.8286\n",
      "Epoch 154/300\n",
      "31/31 [==============================] - 0s 966us/step - loss: 0.3868 - accuracy: 0.8223\n",
      "Epoch 155/300\n",
      "31/31 [==============================] - 0s 899us/step - loss: 0.3956 - accuracy: 0.8330\n",
      "Epoch 156/300\n",
      "31/31 [==============================] - 0s 966us/step - loss: 0.3474 - accuracy: 0.8516\n",
      "Epoch 157/300\n",
      "31/31 [==============================] - 0s 966us/step - loss: 0.3388 - accuracy: 0.8461\n",
      "Epoch 158/300\n",
      "31/31 [==============================] - 0s 1ms/step - loss: 0.3893 - accuracy: 0.8244\n",
      "Epoch 159/300\n",
      "31/31 [==============================] - 0s 1ms/step - loss: 0.3876 - accuracy: 0.8419\n",
      "Epoch 160/300\n",
      "31/31 [==============================] - 0s 1ms/step - loss: 0.3883 - accuracy: 0.8262\n",
      "Epoch 161/300\n",
      "31/31 [==============================] - 0s 1ms/step - loss: 0.4236 - accuracy: 0.8454\n",
      "Epoch 162/300\n"
     ]
    },
    {
     "name": "stdout",
     "output_type": "stream",
     "text": [
      "31/31 [==============================] - 0s 1ms/step - loss: 0.4065 - accuracy: 0.8209\n",
      "Epoch 163/300\n",
      "31/31 [==============================] - 0s 1ms/step - loss: 0.3615 - accuracy: 0.8381\n",
      "Epoch 164/300\n",
      "31/31 [==============================] - 0s 1ms/step - loss: 0.3243 - accuracy: 0.8492\n",
      "Epoch 165/300\n",
      "31/31 [==============================] - 0s 999us/step - loss: 0.3436 - accuracy: 0.8567\n",
      "Epoch 166/300\n",
      "31/31 [==============================] - 0s 1ms/step - loss: 0.3545 - accuracy: 0.8458\n",
      "Epoch 167/300\n",
      "31/31 [==============================] - 0s 1ms/step - loss: 0.4030 - accuracy: 0.7989\n",
      "Epoch 168/300\n",
      "31/31 [==============================] - 0s 1ms/step - loss: 0.4531 - accuracy: 0.8078\n",
      "Epoch 169/300\n",
      "31/31 [==============================] - 0s 1ms/step - loss: 0.4260 - accuracy: 0.7793\n",
      "Epoch 170/300\n",
      "31/31 [==============================] - 0s 1ms/step - loss: 0.3160 - accuracy: 0.8439\n",
      "Epoch 171/300\n",
      "31/31 [==============================] - 0s 999us/step - loss: 0.4306 - accuracy: 0.7930\n",
      "Epoch 172/300\n",
      "31/31 [==============================] - 0s 999us/step - loss: 0.3632 - accuracy: 0.8648\n",
      "Epoch 173/300\n",
      "31/31 [==============================] - 0s 899us/step - loss: 0.3709 - accuracy: 0.8613\n",
      "Epoch 174/300\n",
      "31/31 [==============================] - 0s 1ms/step - loss: 0.4190 - accuracy: 0.8053\n",
      "Epoch 175/300\n",
      "31/31 [==============================] - 0s 2ms/step - loss: 0.3214 - accuracy: 0.8456\n",
      "Epoch 176/300\n",
      "31/31 [==============================] - 0s 1ms/step - loss: 0.3509 - accuracy: 0.8468\n",
      "Epoch 177/300\n",
      "31/31 [==============================] - 0s 1ms/step - loss: 0.4165 - accuracy: 0.8162\n",
      "Epoch 178/300\n",
      "31/31 [==============================] - 0s 1ms/step - loss: 0.3664 - accuracy: 0.8305\n",
      "Epoch 179/300\n",
      "31/31 [==============================] - 0s 999us/step - loss: 0.3278 - accuracy: 0.8655\n",
      "Epoch 180/300\n",
      "31/31 [==============================] - 0s 1ms/step - loss: 0.3920 - accuracy: 0.8313\n",
      "Epoch 181/300\n",
      "31/31 [==============================] - 0s 1ms/step - loss: 0.4210 - accuracy: 0.8125\n",
      "Epoch 182/300\n",
      "31/31 [==============================] - 0s 1ms/step - loss: 0.3786 - accuracy: 0.8392\n",
      "Epoch 183/300\n",
      "31/31 [==============================] - 0s 1ms/step - loss: 0.3479 - accuracy: 0.8522\n",
      "Epoch 184/300\n",
      "31/31 [==============================] - 0s 1ms/step - loss: 0.4318 - accuracy: 0.8426\n",
      "Epoch 185/300\n",
      "31/31 [==============================] - 0s 899us/step - loss: 0.4133 - accuracy: 0.8243\n",
      "Epoch 186/300\n",
      "31/31 [==============================] - 0s 1ms/step - loss: 0.4325 - accuracy: 0.7890\n",
      "Epoch 187/300\n",
      "31/31 [==============================] - 0s 1ms/step - loss: 0.3905 - accuracy: 0.8581\n",
      "Epoch 188/300\n",
      "31/31 [==============================] - 0s 999us/step - loss: 0.3874 - accuracy: 0.8178\n",
      "Epoch 189/300\n",
      "31/31 [==============================] - 0s 899us/step - loss: 0.3973 - accuracy: 0.8094\n",
      "Epoch 190/300\n",
      "31/31 [==============================] - 0s 866us/step - loss: 0.3674 - accuracy: 0.8258\n",
      "Epoch 191/300\n",
      "31/31 [==============================] - 0s 833us/step - loss: 0.3340 - accuracy: 0.8390\n",
      "Epoch 192/300\n",
      "31/31 [==============================] - 0s 899us/step - loss: 0.3654 - accuracy: 0.8456\n",
      "Epoch 193/300\n",
      "31/31 [==============================] - 0s 1ms/step - loss: 0.3728 - accuracy: 0.8351\n",
      "Epoch 194/300\n",
      "31/31 [==============================] - 0s 899us/step - loss: 0.4227 - accuracy: 0.8268\n",
      "Epoch 195/300\n",
      "31/31 [==============================] - 0s 899us/step - loss: 0.3340 - accuracy: 0.8606\n",
      "Epoch 196/300\n",
      "31/31 [==============================] - 0s 899us/step - loss: 0.3683 - accuracy: 0.8166\n",
      "Epoch 197/300\n",
      "31/31 [==============================] - 0s 899us/step - loss: 0.3977 - accuracy: 0.7968\n",
      "Epoch 198/300\n",
      "31/31 [==============================] - 0s 899us/step - loss: 0.4048 - accuracy: 0.8064\n",
      "Epoch 199/300\n",
      "31/31 [==============================] - 0s 1ms/step - loss: 0.3701 - accuracy: 0.8458\n",
      "Epoch 200/300\n",
      "31/31 [==============================] - 0s 999us/step - loss: 0.3815 - accuracy: 0.8146\n",
      "Epoch 201/300\n",
      "31/31 [==============================] - 0s 1ms/step - loss: 0.3533 - accuracy: 0.8516\n",
      "Epoch 202/300\n",
      "31/31 [==============================] - 0s 1ms/step - loss: 0.3791 - accuracy: 0.8319\n",
      "Epoch 203/300\n",
      "31/31 [==============================] - 0s 1ms/step - loss: 0.3036 - accuracy: 0.8572\n",
      "Epoch 204/300\n",
      "31/31 [==============================] - 0s 1ms/step - loss: 0.3240 - accuracy: 0.8718\n",
      "Epoch 205/300\n",
      "31/31 [==============================] - 0s 1ms/step - loss: 0.4071 - accuracy: 0.8375\n",
      "Epoch 206/300\n",
      "31/31 [==============================] - 0s 932us/step - loss: 0.3704 - accuracy: 0.8394\n",
      "Epoch 207/300\n",
      "31/31 [==============================] - 0s 966us/step - loss: 0.4036 - accuracy: 0.8591\n",
      "Epoch 208/300\n",
      "31/31 [==============================] - 0s 866us/step - loss: 0.3290 - accuracy: 0.8571\n",
      "Epoch 209/300\n",
      "31/31 [==============================] - 0s 1ms/step - loss: 0.3351 - accuracy: 0.8685\n",
      "Epoch 210/300\n",
      "31/31 [==============================] - 0s 932us/step - loss: 0.3265 - accuracy: 0.8678\n",
      "Epoch 211/300\n",
      "31/31 [==============================] - 0s 966us/step - loss: 0.3769 - accuracy: 0.8607\n",
      "Epoch 212/300\n",
      "31/31 [==============================] - 0s 999us/step - loss: 0.3711 - accuracy: 0.8276\n",
      "Epoch 213/300\n",
      "31/31 [==============================] - 0s 899us/step - loss: 0.4024 - accuracy: 0.8063\n",
      "Epoch 214/300\n",
      "31/31 [==============================] - 0s 866us/step - loss: 0.3841 - accuracy: 0.8142\n",
      "Epoch 215/300\n",
      "31/31 [==============================] - 0s 866us/step - loss: 0.3967 - accuracy: 0.8265\n",
      "Epoch 216/300\n",
      "31/31 [==============================] - 0s 899us/step - loss: 0.3997 - accuracy: 0.8369\n",
      "Epoch 217/300\n",
      "31/31 [==============================] - 0s 966us/step - loss: 0.3901 - accuracy: 0.8383\n",
      "Epoch 218/300\n",
      "31/31 [==============================] - 0s 932us/step - loss: 0.3573 - accuracy: 0.8350\n",
      "Epoch 219/300\n",
      "31/31 [==============================] - 0s 932us/step - loss: 0.3255 - accuracy: 0.8831\n",
      "Epoch 220/300\n",
      "31/31 [==============================] - 0s 999us/step - loss: 0.4061 - accuracy: 0.8345\n",
      "Epoch 221/300\n",
      "31/31 [==============================] - 0s 932us/step - loss: 0.4089 - accuracy: 0.8091\n",
      "Epoch 222/300\n",
      "31/31 [==============================] - 0s 866us/step - loss: 0.3629 - accuracy: 0.8281\n",
      "Epoch 223/300\n",
      "31/31 [==============================] - 0s 833us/step - loss: 0.3705 - accuracy: 0.8151\n",
      "Epoch 224/300\n",
      "31/31 [==============================] - 0s 899us/step - loss: 0.3834 - accuracy: 0.8401\n",
      "Epoch 225/300\n",
      "31/31 [==============================] - 0s 932us/step - loss: 0.3548 - accuracy: 0.8530\n",
      "Epoch 226/300\n",
      "31/31 [==============================] - 0s 932us/step - loss: 0.3943 - accuracy: 0.8412\n",
      "Epoch 227/300\n",
      "31/31 [==============================] - 0s 899us/step - loss: 0.3793 - accuracy: 0.7943\n",
      "Epoch 228/300\n",
      "31/31 [==============================] - 0s 899us/step - loss: 0.3112 - accuracy: 0.8712\n",
      "Epoch 229/300\n",
      "31/31 [==============================] - 0s 899us/step - loss: 0.3670 - accuracy: 0.8271\n",
      "Epoch 230/300\n",
      "31/31 [==============================] - 0s 833us/step - loss: 0.3229 - accuracy: 0.8422\n",
      "Epoch 231/300\n",
      "31/31 [==============================] - 0s 899us/step - loss: 0.3698 - accuracy: 0.8506\n",
      "Epoch 232/300\n",
      "31/31 [==============================] - 0s 899us/step - loss: 0.4286 - accuracy: 0.8153\n",
      "Epoch 233/300\n",
      "31/31 [==============================] - 0s 999us/step - loss: 0.3456 - accuracy: 0.8385\n",
      "Epoch 234/300\n",
      "31/31 [==============================] - 0s 932us/step - loss: 0.3986 - accuracy: 0.8089\n",
      "Epoch 235/300\n",
      "31/31 [==============================] - 0s 932us/step - loss: 0.3377 - accuracy: 0.8667\n",
      "Epoch 236/300\n",
      "31/31 [==============================] - 0s 1ms/step - loss: 0.3350 - accuracy: 0.8428\n",
      "Epoch 237/300\n",
      "31/31 [==============================] - 0s 899us/step - loss: 0.3503 - accuracy: 0.8720\n",
      "Epoch 238/300\n",
      "31/31 [==============================] - 0s 899us/step - loss: 0.3834 - accuracy: 0.8206\n",
      "Epoch 239/300\n",
      "31/31 [==============================] - 0s 866us/step - loss: 0.3410 - accuracy: 0.8508\n",
      "Epoch 240/300\n",
      "31/31 [==============================] - 0s 866us/step - loss: 0.3123 - accuracy: 0.8589\n",
      "Epoch 241/300\n",
      "31/31 [==============================] - 0s 899us/step - loss: 0.3867 - accuracy: 0.7844\n",
      "Epoch 242/300\n"
     ]
    },
    {
     "name": "stdout",
     "output_type": "stream",
     "text": [
      "31/31 [==============================] - 0s 899us/step - loss: 0.4332 - accuracy: 0.7951\n",
      "Epoch 243/300\n",
      "31/31 [==============================] - 0s 966us/step - loss: 0.3721 - accuracy: 0.8406\n",
      "Epoch 244/300\n",
      "31/31 [==============================] - 0s 899us/step - loss: 0.3013 - accuracy: 0.8854\n",
      "Epoch 245/300\n",
      "31/31 [==============================] - 0s 899us/step - loss: 0.3448 - accuracy: 0.8391\n",
      "Epoch 246/300\n",
      "31/31 [==============================] - 0s 899us/step - loss: 0.4574 - accuracy: 0.8098\n",
      "Epoch 247/300\n",
      "31/31 [==============================] - 0s 866us/step - loss: 0.3345 - accuracy: 0.8361\n",
      "Epoch 248/300\n",
      "31/31 [==============================] - 0s 866us/step - loss: 0.3801 - accuracy: 0.8339\n",
      "Epoch 249/300\n",
      "31/31 [==============================] - 0s 932us/step - loss: 0.3988 - accuracy: 0.8161\n",
      "Epoch 250/300\n",
      "31/31 [==============================] - 0s 966us/step - loss: 0.3971 - accuracy: 0.8385\n",
      "Epoch 251/300\n",
      "31/31 [==============================] - 0s 932us/step - loss: 0.3540 - accuracy: 0.8652\n",
      "Epoch 252/300\n",
      "31/31 [==============================] - 0s 932us/step - loss: 0.4034 - accuracy: 0.7979\n",
      "Epoch 253/300\n",
      "31/31 [==============================] - 0s 899us/step - loss: 0.3763 - accuracy: 0.8269\n",
      "Epoch 254/300\n",
      "31/31 [==============================] - 0s 932us/step - loss: 0.3421 - accuracy: 0.8679\n",
      "Epoch 255/300\n",
      "31/31 [==============================] - 0s 899us/step - loss: 0.4031 - accuracy: 0.8152\n",
      "Epoch 256/300\n",
      "31/31 [==============================] - 0s 1ms/step - loss: 0.2986 - accuracy: 0.8813\n",
      "Epoch 257/300\n",
      "31/31 [==============================] - 0s 1ms/step - loss: 0.3459 - accuracy: 0.8345\n",
      "Epoch 258/300\n",
      "31/31 [==============================] - 0s 1ms/step - loss: 0.4006 - accuracy: 0.8116\n",
      "Epoch 259/300\n",
      "31/31 [==============================] - 0s 1ms/step - loss: 0.3081 - accuracy: 0.8799\n",
      "Epoch 260/300\n",
      "31/31 [==============================] - 0s 966us/step - loss: 0.3483 - accuracy: 0.8494\n",
      "Epoch 261/300\n",
      "31/31 [==============================] - 0s 966us/step - loss: 0.3777 - accuracy: 0.8604\n",
      "Epoch 262/300\n",
      "31/31 [==============================] - 0s 1ms/step - loss: 0.3818 - accuracy: 0.8274\n",
      "Epoch 263/300\n",
      "31/31 [==============================] - 0s 1ms/step - loss: 0.3352 - accuracy: 0.8311\n",
      "Epoch 264/300\n",
      "31/31 [==============================] - 0s 899us/step - loss: 0.3707 - accuracy: 0.8361\n",
      "Epoch 265/300\n",
      "31/31 [==============================] - 0s 899us/step - loss: 0.4063 - accuracy: 0.8225\n",
      "Epoch 266/300\n",
      "31/31 [==============================] - 0s 2ms/step - loss: 0.3485 - accuracy: 0.8724\n",
      "Epoch 267/300\n",
      "31/31 [==============================] - 0s 1ms/step - loss: 0.4082 - accuracy: 0.8284\n",
      "Epoch 268/300\n",
      "31/31 [==============================] - 0s 966us/step - loss: 0.3463 - accuracy: 0.8507\n",
      "Epoch 269/300\n",
      "31/31 [==============================] - 0s 1ms/step - loss: 0.3633 - accuracy: 0.8444\n",
      "Epoch 270/300\n",
      "31/31 [==============================] - 0s 932us/step - loss: 0.3252 - accuracy: 0.8636\n",
      "Epoch 271/300\n",
      "31/31 [==============================] - 0s 899us/step - loss: 0.4348 - accuracy: 0.8127\n",
      "Epoch 272/300\n",
      "31/31 [==============================] - 0s 833us/step - loss: 0.3784 - accuracy: 0.8344\n",
      "Epoch 273/300\n",
      "31/31 [==============================] - 0s 899us/step - loss: 0.3748 - accuracy: 0.8699\n",
      "Epoch 274/300\n",
      "31/31 [==============================] - 0s 932us/step - loss: 0.4070 - accuracy: 0.8031\n",
      "Epoch 275/300\n",
      "31/31 [==============================] - 0s 999us/step - loss: 0.3747 - accuracy: 0.8610\n",
      "Epoch 276/300\n",
      "31/31 [==============================] - 0s 1ms/step - loss: 0.4201 - accuracy: 0.8156\n",
      "Epoch 277/300\n",
      "31/31 [==============================] - 0s 999us/step - loss: 0.3716 - accuracy: 0.8352\n",
      "Epoch 278/300\n",
      "31/31 [==============================] - 0s 1ms/step - loss: 0.3802 - accuracy: 0.8484\n",
      "Epoch 279/300\n",
      "31/31 [==============================] - 0s 966us/step - loss: 0.3900 - accuracy: 0.8403\n",
      "Epoch 280/300\n",
      "31/31 [==============================] - 0s 932us/step - loss: 0.3941 - accuracy: 0.8333\n",
      "Epoch 281/300\n",
      "31/31 [==============================] - 0s 999us/step - loss: 0.4126 - accuracy: 0.8174\n",
      "Epoch 282/300\n",
      "31/31 [==============================] - 0s 999us/step - loss: 0.3950 - accuracy: 0.8097\n",
      "Epoch 283/300\n",
      "31/31 [==============================] - 0s 899us/step - loss: 0.3516 - accuracy: 0.8561\n",
      "Epoch 284/300\n",
      "31/31 [==============================] - 0s 966us/step - loss: 0.3602 - accuracy: 0.8308\n",
      "Epoch 285/300\n",
      "31/31 [==============================] - 0s 1ms/step - loss: 0.3994 - accuracy: 0.8323\n",
      "Epoch 286/300\n",
      "31/31 [==============================] - 0s 932us/step - loss: 0.3815 - accuracy: 0.8501\n",
      "Epoch 287/300\n",
      "31/31 [==============================] - 0s 999us/step - loss: 0.3342 - accuracy: 0.8543\n",
      "Epoch 288/300\n",
      "31/31 [==============================] - 0s 1ms/step - loss: 0.3890 - accuracy: 0.8130\n",
      "Epoch 289/300\n",
      "31/31 [==============================] - 0s 932us/step - loss: 0.3029 - accuracy: 0.8740\n",
      "Epoch 290/300\n",
      "31/31 [==============================] - 0s 1ms/step - loss: 0.3534 - accuracy: 0.8425\n",
      "Epoch 291/300\n",
      "31/31 [==============================] - 0s 1ms/step - loss: 0.3684 - accuracy: 0.8366\n",
      "Epoch 292/300\n",
      "31/31 [==============================] - 0s 1ms/step - loss: 0.3979 - accuracy: 0.8406\n",
      "Epoch 293/300\n",
      "31/31 [==============================] - 0s 999us/step - loss: 0.3040 - accuracy: 0.8643\n",
      "Epoch 294/300\n",
      "31/31 [==============================] - 0s 932us/step - loss: 0.2940 - accuracy: 0.8727\n",
      "Epoch 295/300\n",
      "31/31 [==============================] - 0s 966us/step - loss: 0.3551 - accuracy: 0.8359\n",
      "Epoch 296/300\n",
      "31/31 [==============================] - 0s 1ms/step - loss: 0.3295 - accuracy: 0.8852\n",
      "Epoch 297/300\n",
      "31/31 [==============================] - 0s 1ms/step - loss: 0.3322 - accuracy: 0.8727\n",
      "Epoch 298/300\n",
      "31/31 [==============================] - 0s 1ms/step - loss: 0.3301 - accuracy: 0.8737\n",
      "Epoch 299/300\n",
      "31/31 [==============================] - 0s 999us/step - loss: 0.3345 - accuracy: 0.8532\n",
      "Epoch 300/300\n",
      "31/31 [==============================] - 0s 1ms/step - loss: 0.3241 - accuracy: 0.8426\n"
     ]
    },
    {
     "data": {
      "text/plain": [
       "<tensorflow.python.keras.callbacks.History at 0x29786725a90>"
      ]
     },
     "execution_count": 661,
     "metadata": {},
     "output_type": "execute_result"
    }
   ],
   "source": [
    "model.fit(X_train,Y_train,batch_size=8,epochs=300)"
   ]
  },
  {
   "cell_type": "code",
   "execution_count": 662,
   "metadata": {
    "_uuid": "c844af4f00d40c4cce4c4e5a9a01c9a892e9533d",
    "id": "ycTrzEqKO-K-"
   },
   "outputs": [],
   "source": [
    "Y_pred_nn = model.predict(X_test)"
   ]
  },
  {
   "cell_type": "code",
   "execution_count": 663,
   "metadata": {
    "_uuid": "7e95c4946c0103225663862f43f31c41ed5aa2b1",
    "id": "_xWYvuy-O-K-"
   },
   "outputs": [
    {
     "data": {
      "text/plain": [
       "(61, 1)"
      ]
     },
     "execution_count": 663,
     "metadata": {},
     "output_type": "execute_result"
    }
   ],
   "source": [
    "Y_pred_nn.shape"
   ]
  },
  {
   "cell_type": "code",
   "execution_count": 664,
   "metadata": {
    "_uuid": "66d9268e3f87b5a98066196eaa39363218a20015",
    "id": "u0xe5XrNO-K-"
   },
   "outputs": [],
   "source": [
    "rounded = [round(x[0]) for x in Y_pred_nn]\n",
    "\n",
    "Y_pred_nn = rounded"
   ]
  },
  {
   "cell_type": "code",
   "execution_count": 665,
   "metadata": {
    "_uuid": "888d79632c3191c2d11c1ec3da8dc750c9d95424",
    "id": "bdJ0MqylO-K-"
   },
   "outputs": [
    {
     "name": "stdout",
     "output_type": "stream",
     "text": [
      "The accuracy score achieved using Neural Network is: 85.25 %\n"
     ]
    }
   ],
   "source": [
    "score_nn = round(accuracy_score(Y_pred_nn,Y_test)*100,2)\n",
    "\n",
    "print(\"The accuracy score achieved using Neural Network is: \"+str(score_nn)+\" %\")\n"
   ]
  },
  {
   "cell_type": "markdown",
   "metadata": {
    "_uuid": "c634cd922d716d350f6db0244772260cc598dec4",
    "id": "ydhrtQ14O-K_"
   },
   "source": [
    "## Output final score"
   ]
  },
  {
   "cell_type": "code",
   "execution_count": 684,
   "metadata": {
    "_uuid": "101daa51242624c49bb8b3198d9d2c9f8f1c596e",
    "id": "-P1tRfd1O-K_"
   },
   "outputs": [
    {
     "name": "stdout",
     "output_type": "stream",
     "text": [
      "The accuracy score achieved using Logistic Regression is: 85.25 %\n",
      "The accuracy score achieved using Naive Bayes is: 85.25 %\n",
      "The accuracy score achieved using Support Vector Machine is: 81.97 %\n",
      "The accuracy score achieved using Decision Tree is: 81.97 %\n",
      "The accuracy score achieved using Random Forest is: 95.08 %\n",
      "The accuracy score achieved using XGBoost is: 88.52 %\n",
      "The accuracy score achieved using Neural Network is: 85.25 %\n"
     ]
    }
   ],
   "source": [
    "scores = [score_lr,score_nb,score_svm,score_dt,score_rf,score_xgb,score_nn]\n",
    "algorithms = [\"Logistic Regression\",\"Naive Bayes\",\"Support Vector Machine\",\"Decision Tree\",\"Random Forest\",\"XGBoost\",\"Neural Network\"]    \n",
    "\n",
    "for i in range(len(algorithms)):\n",
    "    print(\"The accuracy score achieved using \"+algorithms[i]+\" is: \"+str(scores[i])+\" %\")"
   ]
  },
  {
   "cell_type": "code",
   "execution_count": 685,
   "metadata": {
    "_uuid": "8060c7d426f9f7b64772f37e0a74ededca16838d",
    "id": "zB6DAtfBO-K_"
   },
   "outputs": [
    {
     "data": {
      "text/plain": [
       "<matplotlib.axes._subplots.AxesSubplot at 0x2978669fe80>"
      ]
     },
     "execution_count": 685,
     "metadata": {},
     "output_type": "execute_result"
    },
    {
     "data": {
      "image/png": "[encoded data removed]",
      "text/plain": [
       "<Figure size 1080x576 with 1 Axes>"
      ]
     },
     "metadata": {},
     "output_type": "display_data"
    }
   ],
   "source": [
    "sns.set(rc={'figure.figsize':(15,8)})\n",
    "plt.xlabel(\"Algorithms\")\n",
    "plt.ylabel(\"Accuracy score\")\n",
    "\n",
    "sns.barplot(algorithms,scores)"
   ]
  },
  {
   "cell_type": "markdown",
   "metadata": {
    "_uuid": "bf9c2071e0d480ab335376d8a177914a8fdca9b7",
    "id": "VqXl4mcaO-LA"
   },
   "source": [
    "### Random forest has given highest accuracy of 95.08% <br> <br>"
   ]
  },
  {
   "cell_type": "code",
   "execution_count": 682,
   "metadata": {},
   "outputs": [],
   "source": [
    "import pickle\n",
    "# Save the model as serialized object pickle\n",
    "with open('model.pkl', 'wb') as file:\n",
    "    pickle.dump(rf, file)"
   ]
  },
  {
   "cell_type": "code",
   "execution_count": 683,
   "metadata": {},
   "outputs": [],
   "source": [
    "from pathlib import Path\n",
    "my_path = Path(\"D:\\\\SEM-6\\\\Heart\\\\model.pkl\") \n",
    "with my_path.open('wb') as fp:\n",
    "    pickle.dump(rf, fp)"
   ]
  },
  {
   "cell_type": "code",
   "execution_count": null,
   "metadata": {},
   "outputs": [],
   "source": []
  },
  {
   "cell_type": "code",
   "execution_count": null,
   "metadata": {},
   "outputs": [],
   "source": []
  }
 ],
 "metadata": {
  "colab": {
   "name": "Heart_disease_prediction.ipynb",
   "provenance": []
  },
  "kernelspec": {
   "display_name": "Python 3",
   "language": "python",
   "name": "python3"
  },
  "language_info": {
   "codemirror_mode": {
    "name": "ipython",
    "version": 3
   },
   "file_extension": ".py",
   "mimetype": "text/x-python",
   "name": "python",
   "nbconvert_exporter": "python",
   "pygments_lexer": "ipython3",
   "version": "3.7.3"
  }
 },
 "nbformat": 4,
 "nbformat_minor": 1
}
